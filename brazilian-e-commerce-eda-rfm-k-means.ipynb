{
 "cells": [
  {
   "cell_type": "markdown",
   "id": "8264201c",
   "metadata": {
    "papermill": {
     "duration": 0.023414,
     "end_time": "2022-07-20T18:10:21.923643",
     "exception": false,
     "start_time": "2022-07-20T18:10:21.900229",
     "status": "completed"
    },
    "tags": []
   },
   "source": [
    "##### In this notebook I'm going to run an Exploratory Data Analysis on the dataset *Brazilian e-commerce website*. The analysis aims to answer some key business questions and discover the data in general. Following the EDA, a Recency, Frequency, Monetary value (RFM) analysis will be done in order to cluster the customers into predefined marketing segments. Please upvote the notebook if your enjoy this work and feel free to share your feedback or ask me anything in the comment section. \n",
    "\n",
    "**Let's start.**"
   ]
  },
  {
   "cell_type": "code",
   "execution_count": 1,
   "id": "a69ed592",
   "metadata": {
    "execution": {
     "iopub.execute_input": "2022-07-20T18:10:21.968043Z",
     "iopub.status.busy": "2022-07-20T18:10:21.967623Z",
     "iopub.status.idle": "2022-07-20T18:10:23.637416Z",
     "shell.execute_reply": "2022-07-20T18:10:23.636236Z"
    },
    "papermill": {
     "duration": 1.695804,
     "end_time": "2022-07-20T18:10:23.640278",
     "exception": false,
     "start_time": "2022-07-20T18:10:21.944474",
     "status": "completed"
    },
    "tags": []
   },
   "outputs": [],
   "source": [
    "# Import necessary libraries\n",
    "import pandas as pd\n",
    "import numpy as np\n",
    "import matplotlib.pyplot as plt \n",
    "import seaborn as sns\n",
    "import datetime\n",
    "from scipy import stats\n",
    "from sklearn.cluster import KMeans\n",
    "from sklearn.preprocessing import StandardScaler\n",
    "import warnings\n",
    "warnings.filterwarnings(\"ignore\")"
   ]
  },
  {
   "cell_type": "code",
   "execution_count": 2,
   "id": "ad74b1c4",
   "metadata": {
    "execution": {
     "iopub.execute_input": "2022-07-20T18:10:23.683096Z",
     "iopub.status.busy": "2022-07-20T18:10:23.682739Z",
     "iopub.status.idle": "2022-07-20T18:10:23.688315Z",
     "shell.execute_reply": "2022-07-20T18:10:23.686934Z"
    },
    "papermill": {
     "duration": 0.029433,
     "end_time": "2022-07-20T18:10:23.690535",
     "exception": false,
     "start_time": "2022-07-20T18:10:23.661102",
     "status": "completed"
    },
    "tags": []
   },
   "outputs": [],
   "source": [
    "dfs_paths = [\"../input/brazilian-ecommerce/olist_customers_dataset.csv\", \"../input/brazilian-ecommerce/olist_geolocation_dataset.csv\",\n",
    "            \"../input/brazilian-ecommerce/olist_order_items_dataset.csv\", \"../input/brazilian-ecommerce/olist_order_payments_dataset.csv\",\n",
    "            \"../input/brazilian-ecommerce/olist_order_reviews_dataset.csv\", \"../input/brazilian-ecommerce/olist_orders_dataset.csv\",\n",
    "            \"../input/brazilian-ecommerce/olist_products_dataset.csv\", \"../input/brazilian-ecommerce/olist_sellers_dataset.csv\",\n",
    "            \"../input/brazilian-ecommerce/product_category_name_translation.csv\"]"
   ]
  },
  {
   "cell_type": "code",
   "execution_count": 3,
   "id": "7062d47b",
   "metadata": {
    "execution": {
     "iopub.execute_input": "2022-07-20T18:10:23.733000Z",
     "iopub.status.busy": "2022-07-20T18:10:23.732609Z",
     "iopub.status.idle": "2022-07-20T18:10:27.664040Z",
     "shell.execute_reply": "2022-07-20T18:10:27.662958Z"
    },
    "papermill": {
     "duration": 3.955834,
     "end_time": "2022-07-20T18:10:27.666816",
     "exception": false,
     "start_time": "2022-07-20T18:10:23.710982",
     "status": "completed"
    },
    "tags": []
   },
   "outputs": [],
   "source": [
    "# Set dfs\n",
    "customers_df = pd.read_csv(\"../input/brazilian-ecommerce/olist_customers_dataset.csv\")\n",
    "geo_df = pd.read_csv(\"../input/brazilian-ecommerce/olist_geolocation_dataset.csv\")\n",
    "orderitem_df = pd.read_csv(\"../input/brazilian-ecommerce/olist_order_items_dataset.csv\")\n",
    "orderpay_df = pd.read_csv(\"../input/brazilian-ecommerce/olist_order_payments_dataset.csv\")\n",
    "orderreviews_df = pd.read_csv(\"../input/brazilian-ecommerce/olist_order_reviews_dataset.csv\")\n",
    "orders_df = pd.read_csv(\"../input/brazilian-ecommerce/olist_orders_dataset.csv\")\n",
    "products_df = pd.read_csv(\"../input/brazilian-ecommerce/olist_products_dataset.csv\")\n",
    "sellers_df = pd.read_csv(\"../input/brazilian-ecommerce/olist_sellers_dataset.csv\")\n",
    "categname_df = pd.read_csv(\"../input/brazilian-ecommerce/product_category_name_translation.csv\")\n",
    "pd.set_option('display.max_columns', 500)"
   ]
  },
  {
   "cell_type": "code",
   "execution_count": 4,
   "id": "d7ec55c0",
   "metadata": {
    "execution": {
     "iopub.execute_input": "2022-07-20T18:10:27.711552Z",
     "iopub.status.busy": "2022-07-20T18:10:27.711126Z",
     "iopub.status.idle": "2022-07-20T18:10:27.725818Z",
     "shell.execute_reply": "2022-07-20T18:10:27.724636Z"
    },
    "papermill": {
     "duration": 0.040271,
     "end_time": "2022-07-20T18:10:27.728347",
     "exception": false,
     "start_time": "2022-07-20T18:10:27.688076",
     "status": "completed"
    },
    "tags": []
   },
   "outputs": [],
   "source": [
    "# Change cols names before merging \n",
    "customers_df.rename(columns={\"customer_zip_code_prefix\": \"zip_code\"}, inplace=True)\n",
    "geo_df.rename(columns={\"geolocation_zip_code_prefix\": \"zip_code\"}, inplace=True)"
   ]
  },
  {
   "cell_type": "code",
   "execution_count": 5,
   "id": "a4826d8e",
   "metadata": {
    "execution": {
     "iopub.execute_input": "2022-07-20T18:10:27.772428Z",
     "iopub.status.busy": "2022-07-20T18:10:27.772029Z",
     "iopub.status.idle": "2022-07-20T18:10:28.790717Z",
     "shell.execute_reply": "2022-07-20T18:10:28.789512Z"
    },
    "papermill": {
     "duration": 1.044394,
     "end_time": "2022-07-20T18:10:28.793654",
     "exception": false,
     "start_time": "2022-07-20T18:10:27.749260",
     "status": "completed"
    },
    "tags": []
   },
   "outputs": [],
   "source": [
    "# Join datasets\n",
    "data = orders_df.merge(customers_df, on=\"customer_id\").merge(orderitem_df, on=\"order_id\").merge(products_df, on=\"product_id\").merge(categname_df, on=\"product_category_name\").merge(orderpay_df, on=\"order_id\").merge(sellers_df, on=\"seller_id\").merge(orderreviews_df, on=\"order_id\")"
   ]
  },
  {
   "cell_type": "code",
   "execution_count": 6,
   "id": "c0597e51",
   "metadata": {
    "execution": {
     "iopub.execute_input": "2022-07-20T18:10:28.837259Z",
     "iopub.status.busy": "2022-07-20T18:10:28.836834Z",
     "iopub.status.idle": "2022-07-20T18:10:28.883850Z",
     "shell.execute_reply": "2022-07-20T18:10:28.882354Z"
    },
    "papermill": {
     "duration": 0.072099,
     "end_time": "2022-07-20T18:10:28.886587",
     "exception": false,
     "start_time": "2022-07-20T18:10:28.814488",
     "status": "completed"
    },
    "tags": []
   },
   "outputs": [
    {
     "data": {
      "text/html": [
       "<div>\n",
       "<style scoped>\n",
       "    .dataframe tbody tr th:only-of-type {\n",
       "        vertical-align: middle;\n",
       "    }\n",
       "\n",
       "    .dataframe tbody tr th {\n",
       "        vertical-align: top;\n",
       "    }\n",
       "\n",
       "    .dataframe thead th {\n",
       "        text-align: right;\n",
       "    }\n",
       "</style>\n",
       "<table border=\"1\" class=\"dataframe\">\n",
       "  <thead>\n",
       "    <tr style=\"text-align: right;\">\n",
       "      <th></th>\n",
       "      <th>order_id</th>\n",
       "      <th>customer_id</th>\n",
       "      <th>order_status</th>\n",
       "      <th>order_purchase_timestamp</th>\n",
       "      <th>order_approved_at</th>\n",
       "      <th>order_delivered_carrier_date</th>\n",
       "      <th>order_delivered_customer_date</th>\n",
       "      <th>order_estimated_delivery_date</th>\n",
       "      <th>customer_unique_id</th>\n",
       "      <th>zip_code</th>\n",
       "      <th>customer_city</th>\n",
       "      <th>customer_state</th>\n",
       "      <th>order_item_id</th>\n",
       "      <th>product_id</th>\n",
       "      <th>seller_id</th>\n",
       "      <th>shipping_limit_date</th>\n",
       "      <th>price</th>\n",
       "      <th>freight_value</th>\n",
       "      <th>product_category_name</th>\n",
       "      <th>product_name_lenght</th>\n",
       "      <th>product_description_lenght</th>\n",
       "      <th>product_photos_qty</th>\n",
       "      <th>product_weight_g</th>\n",
       "      <th>product_length_cm</th>\n",
       "      <th>product_height_cm</th>\n",
       "      <th>product_width_cm</th>\n",
       "      <th>product_category_name_english</th>\n",
       "      <th>payment_sequential</th>\n",
       "      <th>payment_type</th>\n",
       "      <th>payment_installments</th>\n",
       "      <th>payment_value</th>\n",
       "      <th>seller_zip_code_prefix</th>\n",
       "      <th>seller_city</th>\n",
       "      <th>seller_state</th>\n",
       "      <th>review_id</th>\n",
       "      <th>review_score</th>\n",
       "      <th>review_comment_title</th>\n",
       "      <th>review_comment_message</th>\n",
       "      <th>review_creation_date</th>\n",
       "      <th>review_answer_timestamp</th>\n",
       "    </tr>\n",
       "  </thead>\n",
       "  <tbody>\n",
       "    <tr>\n",
       "      <th>0</th>\n",
       "      <td>e481f51cbdc54678b7cc49136f2d6af7</td>\n",
       "      <td>9ef432eb6251297304e76186b10a928d</td>\n",
       "      <td>delivered</td>\n",
       "      <td>2017-10-02 10:56:33</td>\n",
       "      <td>2017-10-02 11:07:15</td>\n",
       "      <td>2017-10-04 19:55:00</td>\n",
       "      <td>2017-10-10 21:25:13</td>\n",
       "      <td>2017-10-18 00:00:00</td>\n",
       "      <td>7c396fd4830fd04220f754e42b4e5bff</td>\n",
       "      <td>3149</td>\n",
       "      <td>sao paulo</td>\n",
       "      <td>SP</td>\n",
       "      <td>1</td>\n",
       "      <td>87285b34884572647811a353c7ac498a</td>\n",
       "      <td>3504c0cb71d7fa48d967e0e4c94d59d9</td>\n",
       "      <td>2017-10-06 11:07:15</td>\n",
       "      <td>29.99</td>\n",
       "      <td>8.72</td>\n",
       "      <td>utilidades_domesticas</td>\n",
       "      <td>40.0</td>\n",
       "      <td>268.0</td>\n",
       "      <td>4.0</td>\n",
       "      <td>500.0</td>\n",
       "      <td>19.0</td>\n",
       "      <td>8.0</td>\n",
       "      <td>13.0</td>\n",
       "      <td>housewares</td>\n",
       "      <td>1</td>\n",
       "      <td>credit_card</td>\n",
       "      <td>1</td>\n",
       "      <td>18.12</td>\n",
       "      <td>9350</td>\n",
       "      <td>maua</td>\n",
       "      <td>SP</td>\n",
       "      <td>a54f0611adc9ed256b57ede6b6eb5114</td>\n",
       "      <td>4</td>\n",
       "      <td>NaN</td>\n",
       "      <td>Não testei o produto ainda, mas ele veio corre...</td>\n",
       "      <td>2017-10-11 00:00:00</td>\n",
       "      <td>2017-10-12 03:43:48</td>\n",
       "    </tr>\n",
       "    <tr>\n",
       "      <th>1</th>\n",
       "      <td>e481f51cbdc54678b7cc49136f2d6af7</td>\n",
       "      <td>9ef432eb6251297304e76186b10a928d</td>\n",
       "      <td>delivered</td>\n",
       "      <td>2017-10-02 10:56:33</td>\n",
       "      <td>2017-10-02 11:07:15</td>\n",
       "      <td>2017-10-04 19:55:00</td>\n",
       "      <td>2017-10-10 21:25:13</td>\n",
       "      <td>2017-10-18 00:00:00</td>\n",
       "      <td>7c396fd4830fd04220f754e42b4e5bff</td>\n",
       "      <td>3149</td>\n",
       "      <td>sao paulo</td>\n",
       "      <td>SP</td>\n",
       "      <td>1</td>\n",
       "      <td>87285b34884572647811a353c7ac498a</td>\n",
       "      <td>3504c0cb71d7fa48d967e0e4c94d59d9</td>\n",
       "      <td>2017-10-06 11:07:15</td>\n",
       "      <td>29.99</td>\n",
       "      <td>8.72</td>\n",
       "      <td>utilidades_domesticas</td>\n",
       "      <td>40.0</td>\n",
       "      <td>268.0</td>\n",
       "      <td>4.0</td>\n",
       "      <td>500.0</td>\n",
       "      <td>19.0</td>\n",
       "      <td>8.0</td>\n",
       "      <td>13.0</td>\n",
       "      <td>housewares</td>\n",
       "      <td>3</td>\n",
       "      <td>voucher</td>\n",
       "      <td>1</td>\n",
       "      <td>2.00</td>\n",
       "      <td>9350</td>\n",
       "      <td>maua</td>\n",
       "      <td>SP</td>\n",
       "      <td>a54f0611adc9ed256b57ede6b6eb5114</td>\n",
       "      <td>4</td>\n",
       "      <td>NaN</td>\n",
       "      <td>Não testei o produto ainda, mas ele veio corre...</td>\n",
       "      <td>2017-10-11 00:00:00</td>\n",
       "      <td>2017-10-12 03:43:48</td>\n",
       "    </tr>\n",
       "    <tr>\n",
       "      <th>2</th>\n",
       "      <td>e481f51cbdc54678b7cc49136f2d6af7</td>\n",
       "      <td>9ef432eb6251297304e76186b10a928d</td>\n",
       "      <td>delivered</td>\n",
       "      <td>2017-10-02 10:56:33</td>\n",
       "      <td>2017-10-02 11:07:15</td>\n",
       "      <td>2017-10-04 19:55:00</td>\n",
       "      <td>2017-10-10 21:25:13</td>\n",
       "      <td>2017-10-18 00:00:00</td>\n",
       "      <td>7c396fd4830fd04220f754e42b4e5bff</td>\n",
       "      <td>3149</td>\n",
       "      <td>sao paulo</td>\n",
       "      <td>SP</td>\n",
       "      <td>1</td>\n",
       "      <td>87285b34884572647811a353c7ac498a</td>\n",
       "      <td>3504c0cb71d7fa48d967e0e4c94d59d9</td>\n",
       "      <td>2017-10-06 11:07:15</td>\n",
       "      <td>29.99</td>\n",
       "      <td>8.72</td>\n",
       "      <td>utilidades_domesticas</td>\n",
       "      <td>40.0</td>\n",
       "      <td>268.0</td>\n",
       "      <td>4.0</td>\n",
       "      <td>500.0</td>\n",
       "      <td>19.0</td>\n",
       "      <td>8.0</td>\n",
       "      <td>13.0</td>\n",
       "      <td>housewares</td>\n",
       "      <td>2</td>\n",
       "      <td>voucher</td>\n",
       "      <td>1</td>\n",
       "      <td>18.59</td>\n",
       "      <td>9350</td>\n",
       "      <td>maua</td>\n",
       "      <td>SP</td>\n",
       "      <td>a54f0611adc9ed256b57ede6b6eb5114</td>\n",
       "      <td>4</td>\n",
       "      <td>NaN</td>\n",
       "      <td>Não testei o produto ainda, mas ele veio corre...</td>\n",
       "      <td>2017-10-11 00:00:00</td>\n",
       "      <td>2017-10-12 03:43:48</td>\n",
       "    </tr>\n",
       "    <tr>\n",
       "      <th>3</th>\n",
       "      <td>128e10d95713541c87cd1a2e48201934</td>\n",
       "      <td>a20e8105f23924cd00833fd87daa0831</td>\n",
       "      <td>delivered</td>\n",
       "      <td>2017-08-15 18:29:31</td>\n",
       "      <td>2017-08-15 20:05:16</td>\n",
       "      <td>2017-08-17 15:28:33</td>\n",
       "      <td>2017-08-18 14:44:43</td>\n",
       "      <td>2017-08-28 00:00:00</td>\n",
       "      <td>3a51803cc0d012c3b5dc8b7528cb05f7</td>\n",
       "      <td>3366</td>\n",
       "      <td>sao paulo</td>\n",
       "      <td>SP</td>\n",
       "      <td>1</td>\n",
       "      <td>87285b34884572647811a353c7ac498a</td>\n",
       "      <td>3504c0cb71d7fa48d967e0e4c94d59d9</td>\n",
       "      <td>2017-08-21 20:05:16</td>\n",
       "      <td>29.99</td>\n",
       "      <td>7.78</td>\n",
       "      <td>utilidades_domesticas</td>\n",
       "      <td>40.0</td>\n",
       "      <td>268.0</td>\n",
       "      <td>4.0</td>\n",
       "      <td>500.0</td>\n",
       "      <td>19.0</td>\n",
       "      <td>8.0</td>\n",
       "      <td>13.0</td>\n",
       "      <td>housewares</td>\n",
       "      <td>1</td>\n",
       "      <td>credit_card</td>\n",
       "      <td>3</td>\n",
       "      <td>37.77</td>\n",
       "      <td>9350</td>\n",
       "      <td>maua</td>\n",
       "      <td>SP</td>\n",
       "      <td>b46f1e34512b0f4c74a72398b03ca788</td>\n",
       "      <td>4</td>\n",
       "      <td>NaN</td>\n",
       "      <td>Deveriam embalar melhor o produto. A caixa vei...</td>\n",
       "      <td>2017-08-19 00:00:00</td>\n",
       "      <td>2017-08-20 15:16:36</td>\n",
       "    </tr>\n",
       "    <tr>\n",
       "      <th>4</th>\n",
       "      <td>0e7e841ddf8f8f2de2bad69267ecfbcf</td>\n",
       "      <td>26c7ac168e1433912a51b924fbd34d34</td>\n",
       "      <td>delivered</td>\n",
       "      <td>2017-08-02 18:24:47</td>\n",
       "      <td>2017-08-02 18:43:15</td>\n",
       "      <td>2017-08-04 17:35:43</td>\n",
       "      <td>2017-08-07 18:30:01</td>\n",
       "      <td>2017-08-15 00:00:00</td>\n",
       "      <td>ef0996a1a279c26e7ecbd737be23d235</td>\n",
       "      <td>2290</td>\n",
       "      <td>sao paulo</td>\n",
       "      <td>SP</td>\n",
       "      <td>1</td>\n",
       "      <td>87285b34884572647811a353c7ac498a</td>\n",
       "      <td>3504c0cb71d7fa48d967e0e4c94d59d9</td>\n",
       "      <td>2017-08-08 18:37:31</td>\n",
       "      <td>29.99</td>\n",
       "      <td>7.78</td>\n",
       "      <td>utilidades_domesticas</td>\n",
       "      <td>40.0</td>\n",
       "      <td>268.0</td>\n",
       "      <td>4.0</td>\n",
       "      <td>500.0</td>\n",
       "      <td>19.0</td>\n",
       "      <td>8.0</td>\n",
       "      <td>13.0</td>\n",
       "      <td>housewares</td>\n",
       "      <td>1</td>\n",
       "      <td>credit_card</td>\n",
       "      <td>1</td>\n",
       "      <td>37.77</td>\n",
       "      <td>9350</td>\n",
       "      <td>maua</td>\n",
       "      <td>SP</td>\n",
       "      <td>dc90f19c2806f1abba9e72ad3c350073</td>\n",
       "      <td>5</td>\n",
       "      <td>NaN</td>\n",
       "      <td>Só achei ela pequena pra seis xícaras ,mais é ...</td>\n",
       "      <td>2017-08-08 00:00:00</td>\n",
       "      <td>2017-08-08 23:26:23</td>\n",
       "    </tr>\n",
       "  </tbody>\n",
       "</table>\n",
       "</div>"
      ],
      "text/plain": [
       "                           order_id                       customer_id  \\\n",
       "0  e481f51cbdc54678b7cc49136f2d6af7  9ef432eb6251297304e76186b10a928d   \n",
       "1  e481f51cbdc54678b7cc49136f2d6af7  9ef432eb6251297304e76186b10a928d   \n",
       "2  e481f51cbdc54678b7cc49136f2d6af7  9ef432eb6251297304e76186b10a928d   \n",
       "3  128e10d95713541c87cd1a2e48201934  a20e8105f23924cd00833fd87daa0831   \n",
       "4  0e7e841ddf8f8f2de2bad69267ecfbcf  26c7ac168e1433912a51b924fbd34d34   \n",
       "\n",
       "  order_status order_purchase_timestamp    order_approved_at  \\\n",
       "0    delivered      2017-10-02 10:56:33  2017-10-02 11:07:15   \n",
       "1    delivered      2017-10-02 10:56:33  2017-10-02 11:07:15   \n",
       "2    delivered      2017-10-02 10:56:33  2017-10-02 11:07:15   \n",
       "3    delivered      2017-08-15 18:29:31  2017-08-15 20:05:16   \n",
       "4    delivered      2017-08-02 18:24:47  2017-08-02 18:43:15   \n",
       "\n",
       "  order_delivered_carrier_date order_delivered_customer_date  \\\n",
       "0          2017-10-04 19:55:00           2017-10-10 21:25:13   \n",
       "1          2017-10-04 19:55:00           2017-10-10 21:25:13   \n",
       "2          2017-10-04 19:55:00           2017-10-10 21:25:13   \n",
       "3          2017-08-17 15:28:33           2017-08-18 14:44:43   \n",
       "4          2017-08-04 17:35:43           2017-08-07 18:30:01   \n",
       "\n",
       "  order_estimated_delivery_date                customer_unique_id  zip_code  \\\n",
       "0           2017-10-18 00:00:00  7c396fd4830fd04220f754e42b4e5bff      3149   \n",
       "1           2017-10-18 00:00:00  7c396fd4830fd04220f754e42b4e5bff      3149   \n",
       "2           2017-10-18 00:00:00  7c396fd4830fd04220f754e42b4e5bff      3149   \n",
       "3           2017-08-28 00:00:00  3a51803cc0d012c3b5dc8b7528cb05f7      3366   \n",
       "4           2017-08-15 00:00:00  ef0996a1a279c26e7ecbd737be23d235      2290   \n",
       "\n",
       "  customer_city customer_state  order_item_id  \\\n",
       "0     sao paulo             SP              1   \n",
       "1     sao paulo             SP              1   \n",
       "2     sao paulo             SP              1   \n",
       "3     sao paulo             SP              1   \n",
       "4     sao paulo             SP              1   \n",
       "\n",
       "                         product_id                         seller_id  \\\n",
       "0  87285b34884572647811a353c7ac498a  3504c0cb71d7fa48d967e0e4c94d59d9   \n",
       "1  87285b34884572647811a353c7ac498a  3504c0cb71d7fa48d967e0e4c94d59d9   \n",
       "2  87285b34884572647811a353c7ac498a  3504c0cb71d7fa48d967e0e4c94d59d9   \n",
       "3  87285b34884572647811a353c7ac498a  3504c0cb71d7fa48d967e0e4c94d59d9   \n",
       "4  87285b34884572647811a353c7ac498a  3504c0cb71d7fa48d967e0e4c94d59d9   \n",
       "\n",
       "   shipping_limit_date  price  freight_value  product_category_name  \\\n",
       "0  2017-10-06 11:07:15  29.99           8.72  utilidades_domesticas   \n",
       "1  2017-10-06 11:07:15  29.99           8.72  utilidades_domesticas   \n",
       "2  2017-10-06 11:07:15  29.99           8.72  utilidades_domesticas   \n",
       "3  2017-08-21 20:05:16  29.99           7.78  utilidades_domesticas   \n",
       "4  2017-08-08 18:37:31  29.99           7.78  utilidades_domesticas   \n",
       "\n",
       "   product_name_lenght  product_description_lenght  product_photos_qty  \\\n",
       "0                 40.0                       268.0                 4.0   \n",
       "1                 40.0                       268.0                 4.0   \n",
       "2                 40.0                       268.0                 4.0   \n",
       "3                 40.0                       268.0                 4.0   \n",
       "4                 40.0                       268.0                 4.0   \n",
       "\n",
       "   product_weight_g  product_length_cm  product_height_cm  product_width_cm  \\\n",
       "0             500.0               19.0                8.0              13.0   \n",
       "1             500.0               19.0                8.0              13.0   \n",
       "2             500.0               19.0                8.0              13.0   \n",
       "3             500.0               19.0                8.0              13.0   \n",
       "4             500.0               19.0                8.0              13.0   \n",
       "\n",
       "  product_category_name_english  payment_sequential payment_type  \\\n",
       "0                    housewares                   1  credit_card   \n",
       "1                    housewares                   3      voucher   \n",
       "2                    housewares                   2      voucher   \n",
       "3                    housewares                   1  credit_card   \n",
       "4                    housewares                   1  credit_card   \n",
       "\n",
       "   payment_installments  payment_value  seller_zip_code_prefix seller_city  \\\n",
       "0                     1          18.12                    9350        maua   \n",
       "1                     1           2.00                    9350        maua   \n",
       "2                     1          18.59                    9350        maua   \n",
       "3                     3          37.77                    9350        maua   \n",
       "4                     1          37.77                    9350        maua   \n",
       "\n",
       "  seller_state                         review_id  review_score  \\\n",
       "0           SP  a54f0611adc9ed256b57ede6b6eb5114             4   \n",
       "1           SP  a54f0611adc9ed256b57ede6b6eb5114             4   \n",
       "2           SP  a54f0611adc9ed256b57ede6b6eb5114             4   \n",
       "3           SP  b46f1e34512b0f4c74a72398b03ca788             4   \n",
       "4           SP  dc90f19c2806f1abba9e72ad3c350073             5   \n",
       "\n",
       "  review_comment_title                             review_comment_message  \\\n",
       "0                  NaN  Não testei o produto ainda, mas ele veio corre...   \n",
       "1                  NaN  Não testei o produto ainda, mas ele veio corre...   \n",
       "2                  NaN  Não testei o produto ainda, mas ele veio corre...   \n",
       "3                  NaN  Deveriam embalar melhor o produto. A caixa vei...   \n",
       "4                  NaN  Só achei ela pequena pra seis xícaras ,mais é ...   \n",
       "\n",
       "  review_creation_date review_answer_timestamp  \n",
       "0  2017-10-11 00:00:00     2017-10-12 03:43:48  \n",
       "1  2017-10-11 00:00:00     2017-10-12 03:43:48  \n",
       "2  2017-10-11 00:00:00     2017-10-12 03:43:48  \n",
       "3  2017-08-19 00:00:00     2017-08-20 15:16:36  \n",
       "4  2017-08-08 00:00:00     2017-08-08 23:26:23  "
      ]
     },
     "execution_count": 6,
     "metadata": {},
     "output_type": "execute_result"
    }
   ],
   "source": [
    "data.head()"
   ]
  },
  {
   "cell_type": "markdown",
   "id": "b1f4ff7a",
   "metadata": {
    "papermill": {
     "duration": 0.020766,
     "end_time": "2022-07-20T18:10:28.929007",
     "exception": false,
     "start_time": "2022-07-20T18:10:28.908241",
     "status": "completed"
    },
    "tags": []
   },
   "source": [
    "We have duplicated order_ids. This is due to the fact that the same order can be paid by multiple payment methods. "
   ]
  },
  {
   "cell_type": "code",
   "execution_count": 7,
   "id": "44cbc5c2",
   "metadata": {
    "execution": {
     "iopub.execute_input": "2022-07-20T18:10:28.973583Z",
     "iopub.status.busy": "2022-07-20T18:10:28.972329Z",
     "iopub.status.idle": "2022-07-20T18:10:29.319793Z",
     "shell.execute_reply": "2022-07-20T18:10:29.319021Z"
    },
    "papermill": {
     "duration": 0.371905,
     "end_time": "2022-07-20T18:10:29.321923",
     "exception": false,
     "start_time": "2022-07-20T18:10:28.950018",
     "status": "completed"
    },
    "tags": []
   },
   "outputs": [
    {
     "data": {
      "text/plain": [
       "review_comment_title             0.880623\n",
       "review_comment_message           0.576971\n",
       "order_delivered_customer_date    0.020760\n",
       "order_delivered_carrier_date     0.010337\n",
       "order_approved_at                0.000121\n",
       "product_length_cm                0.000009\n",
       "product_height_cm                0.000009\n",
       "product_width_cm                 0.000009\n",
       "product_weight_g                 0.000009\n",
       "payment_installments             0.000000\n",
       "product_category_name_english    0.000000\n",
       "payment_sequential               0.000000\n",
       "payment_type                     0.000000\n",
       "order_id                         0.000000\n",
       "payment_value                    0.000000\n",
       "seller_zip_code_prefix           0.000000\n",
       "seller_city                      0.000000\n",
       "review_id                        0.000000\n",
       "review_score                     0.000000\n",
       "review_creation_date             0.000000\n",
       "seller_state                     0.000000\n",
       "product_description_lenght       0.000000\n",
       "product_photos_qty               0.000000\n",
       "customer_id                      0.000000\n",
       "order_status                     0.000000\n",
       "order_purchase_timestamp         0.000000\n",
       "order_estimated_delivery_date    0.000000\n",
       "customer_unique_id               0.000000\n",
       "zip_code                         0.000000\n",
       "customer_city                    0.000000\n",
       "customer_state                   0.000000\n",
       "order_item_id                    0.000000\n",
       "product_id                       0.000000\n",
       "seller_id                        0.000000\n",
       "shipping_limit_date              0.000000\n",
       "price                            0.000000\n",
       "freight_value                    0.000000\n",
       "product_category_name            0.000000\n",
       "product_name_lenght              0.000000\n",
       "review_answer_timestamp          0.000000\n",
       "dtype: float64"
      ]
     },
     "execution_count": 7,
     "metadata": {},
     "output_type": "execute_result"
    }
   ],
   "source": [
    "# Null values \n",
    "(data.isna().sum() / len(data) ).sort_values(ascending=False)"
   ]
  },
  {
   "cell_type": "code",
   "execution_count": 8,
   "id": "47394578",
   "metadata": {
    "execution": {
     "iopub.execute_input": "2022-07-20T18:10:29.367110Z",
     "iopub.status.busy": "2022-07-20T18:10:29.365986Z",
     "iopub.status.idle": "2022-07-20T18:10:29.632351Z",
     "shell.execute_reply": "2022-07-20T18:10:29.631232Z"
    },
    "papermill": {
     "duration": 0.291635,
     "end_time": "2022-07-20T18:10:29.634779",
     "exception": false,
     "start_time": "2022-07-20T18:10:29.343144",
     "status": "completed"
    },
    "tags": []
   },
   "outputs": [
    {
     "data": {
      "text/html": [
       "<div>\n",
       "<style scoped>\n",
       "    .dataframe tbody tr th:only-of-type {\n",
       "        vertical-align: middle;\n",
       "    }\n",
       "\n",
       "    .dataframe tbody tr th {\n",
       "        vertical-align: top;\n",
       "    }\n",
       "\n",
       "    .dataframe thead th {\n",
       "        text-align: right;\n",
       "    }\n",
       "</style>\n",
       "<table border=\"1\" class=\"dataframe\">\n",
       "  <thead>\n",
       "    <tr style=\"text-align: right;\">\n",
       "      <th></th>\n",
       "      <th>zip_code</th>\n",
       "      <th>order_item_id</th>\n",
       "      <th>price</th>\n",
       "      <th>freight_value</th>\n",
       "      <th>product_name_lenght</th>\n",
       "      <th>product_description_lenght</th>\n",
       "      <th>product_photos_qty</th>\n",
       "      <th>product_weight_g</th>\n",
       "      <th>product_length_cm</th>\n",
       "      <th>product_height_cm</th>\n",
       "      <th>product_width_cm</th>\n",
       "      <th>payment_sequential</th>\n",
       "      <th>payment_installments</th>\n",
       "      <th>payment_value</th>\n",
       "      <th>seller_zip_code_prefix</th>\n",
       "      <th>review_score</th>\n",
       "    </tr>\n",
       "  </thead>\n",
       "  <tbody>\n",
       "    <tr>\n",
       "      <th>count</th>\n",
       "      <td>115609.000000</td>\n",
       "      <td>115609.000000</td>\n",
       "      <td>115609.000000</td>\n",
       "      <td>115609.000000</td>\n",
       "      <td>115609.000000</td>\n",
       "      <td>115609.000000</td>\n",
       "      <td>115609.000000</td>\n",
       "      <td>115608.000000</td>\n",
       "      <td>115608.000000</td>\n",
       "      <td>115608.000000</td>\n",
       "      <td>115608.000000</td>\n",
       "      <td>115609.000000</td>\n",
       "      <td>115609.000000</td>\n",
       "      <td>115609.000000</td>\n",
       "      <td>115609.000000</td>\n",
       "      <td>115609.000000</td>\n",
       "    </tr>\n",
       "    <tr>\n",
       "      <th>mean</th>\n",
       "      <td>35061.537597</td>\n",
       "      <td>1.194535</td>\n",
       "      <td>120.619850</td>\n",
       "      <td>20.056880</td>\n",
       "      <td>48.766541</td>\n",
       "      <td>785.808198</td>\n",
       "      <td>2.205373</td>\n",
       "      <td>2113.907697</td>\n",
       "      <td>30.307903</td>\n",
       "      <td>16.638477</td>\n",
       "      <td>23.113167</td>\n",
       "      <td>1.093747</td>\n",
       "      <td>2.946233</td>\n",
       "      <td>172.387379</td>\n",
       "      <td>24515.713958</td>\n",
       "      <td>4.034409</td>\n",
       "    </tr>\n",
       "    <tr>\n",
       "      <th>std</th>\n",
       "      <td>29841.671732</td>\n",
       "      <td>0.685926</td>\n",
       "      <td>182.653476</td>\n",
       "      <td>15.836184</td>\n",
       "      <td>10.034187</td>\n",
       "      <td>652.418619</td>\n",
       "      <td>1.717771</td>\n",
       "      <td>3781.754895</td>\n",
       "      <td>16.211108</td>\n",
       "      <td>13.473570</td>\n",
       "      <td>11.755083</td>\n",
       "      <td>0.729849</td>\n",
       "      <td>2.781087</td>\n",
       "      <td>265.873969</td>\n",
       "      <td>27636.640968</td>\n",
       "      <td>1.385584</td>\n",
       "    </tr>\n",
       "    <tr>\n",
       "      <th>min</th>\n",
       "      <td>1003.000000</td>\n",
       "      <td>1.000000</td>\n",
       "      <td>0.850000</td>\n",
       "      <td>0.000000</td>\n",
       "      <td>5.000000</td>\n",
       "      <td>4.000000</td>\n",
       "      <td>1.000000</td>\n",
       "      <td>0.000000</td>\n",
       "      <td>7.000000</td>\n",
       "      <td>2.000000</td>\n",
       "      <td>6.000000</td>\n",
       "      <td>1.000000</td>\n",
       "      <td>0.000000</td>\n",
       "      <td>0.000000</td>\n",
       "      <td>1001.000000</td>\n",
       "      <td>1.000000</td>\n",
       "    </tr>\n",
       "    <tr>\n",
       "      <th>25%</th>\n",
       "      <td>11310.000000</td>\n",
       "      <td>1.000000</td>\n",
       "      <td>39.900000</td>\n",
       "      <td>13.080000</td>\n",
       "      <td>42.000000</td>\n",
       "      <td>346.000000</td>\n",
       "      <td>1.000000</td>\n",
       "      <td>300.000000</td>\n",
       "      <td>18.000000</td>\n",
       "      <td>8.000000</td>\n",
       "      <td>15.000000</td>\n",
       "      <td>1.000000</td>\n",
       "      <td>1.000000</td>\n",
       "      <td>60.870000</td>\n",
       "      <td>6429.000000</td>\n",
       "      <td>4.000000</td>\n",
       "    </tr>\n",
       "    <tr>\n",
       "      <th>50%</th>\n",
       "      <td>24241.000000</td>\n",
       "      <td>1.000000</td>\n",
       "      <td>74.900000</td>\n",
       "      <td>16.320000</td>\n",
       "      <td>52.000000</td>\n",
       "      <td>600.000000</td>\n",
       "      <td>1.000000</td>\n",
       "      <td>700.000000</td>\n",
       "      <td>25.000000</td>\n",
       "      <td>13.000000</td>\n",
       "      <td>20.000000</td>\n",
       "      <td>1.000000</td>\n",
       "      <td>2.000000</td>\n",
       "      <td>108.050000</td>\n",
       "      <td>13660.000000</td>\n",
       "      <td>5.000000</td>\n",
       "    </tr>\n",
       "    <tr>\n",
       "      <th>75%</th>\n",
       "      <td>58745.000000</td>\n",
       "      <td>1.000000</td>\n",
       "      <td>134.900000</td>\n",
       "      <td>21.210000</td>\n",
       "      <td>57.000000</td>\n",
       "      <td>983.000000</td>\n",
       "      <td>3.000000</td>\n",
       "      <td>1800.000000</td>\n",
       "      <td>38.000000</td>\n",
       "      <td>20.000000</td>\n",
       "      <td>30.000000</td>\n",
       "      <td>1.000000</td>\n",
       "      <td>4.000000</td>\n",
       "      <td>189.480000</td>\n",
       "      <td>28605.000000</td>\n",
       "      <td>5.000000</td>\n",
       "    </tr>\n",
       "    <tr>\n",
       "      <th>max</th>\n",
       "      <td>99980.000000</td>\n",
       "      <td>21.000000</td>\n",
       "      <td>6735.000000</td>\n",
       "      <td>409.680000</td>\n",
       "      <td>76.000000</td>\n",
       "      <td>3992.000000</td>\n",
       "      <td>20.000000</td>\n",
       "      <td>40425.000000</td>\n",
       "      <td>105.000000</td>\n",
       "      <td>105.000000</td>\n",
       "      <td>118.000000</td>\n",
       "      <td>29.000000</td>\n",
       "      <td>24.000000</td>\n",
       "      <td>13664.080000</td>\n",
       "      <td>99730.000000</td>\n",
       "      <td>5.000000</td>\n",
       "    </tr>\n",
       "  </tbody>\n",
       "</table>\n",
       "</div>"
      ],
      "text/plain": [
       "            zip_code  order_item_id          price  freight_value  \\\n",
       "count  115609.000000  115609.000000  115609.000000  115609.000000   \n",
       "mean    35061.537597       1.194535     120.619850      20.056880   \n",
       "std     29841.671732       0.685926     182.653476      15.836184   \n",
       "min      1003.000000       1.000000       0.850000       0.000000   \n",
       "25%     11310.000000       1.000000      39.900000      13.080000   \n",
       "50%     24241.000000       1.000000      74.900000      16.320000   \n",
       "75%     58745.000000       1.000000     134.900000      21.210000   \n",
       "max     99980.000000      21.000000    6735.000000     409.680000   \n",
       "\n",
       "       product_name_lenght  product_description_lenght  product_photos_qty  \\\n",
       "count        115609.000000               115609.000000       115609.000000   \n",
       "mean             48.766541                  785.808198            2.205373   \n",
       "std              10.034187                  652.418619            1.717771   \n",
       "min               5.000000                    4.000000            1.000000   \n",
       "25%              42.000000                  346.000000            1.000000   \n",
       "50%              52.000000                  600.000000            1.000000   \n",
       "75%              57.000000                  983.000000            3.000000   \n",
       "max              76.000000                 3992.000000           20.000000   \n",
       "\n",
       "       product_weight_g  product_length_cm  product_height_cm  \\\n",
       "count     115608.000000      115608.000000      115608.000000   \n",
       "mean        2113.907697          30.307903          16.638477   \n",
       "std         3781.754895          16.211108          13.473570   \n",
       "min            0.000000           7.000000           2.000000   \n",
       "25%          300.000000          18.000000           8.000000   \n",
       "50%          700.000000          25.000000          13.000000   \n",
       "75%         1800.000000          38.000000          20.000000   \n",
       "max        40425.000000         105.000000         105.000000   \n",
       "\n",
       "       product_width_cm  payment_sequential  payment_installments  \\\n",
       "count     115608.000000       115609.000000         115609.000000   \n",
       "mean          23.113167            1.093747              2.946233   \n",
       "std           11.755083            0.729849              2.781087   \n",
       "min            6.000000            1.000000              0.000000   \n",
       "25%           15.000000            1.000000              1.000000   \n",
       "50%           20.000000            1.000000              2.000000   \n",
       "75%           30.000000            1.000000              4.000000   \n",
       "max          118.000000           29.000000             24.000000   \n",
       "\n",
       "       payment_value  seller_zip_code_prefix   review_score  \n",
       "count  115609.000000           115609.000000  115609.000000  \n",
       "mean      172.387379            24515.713958       4.034409  \n",
       "std       265.873969            27636.640968       1.385584  \n",
       "min         0.000000             1001.000000       1.000000  \n",
       "25%        60.870000             6429.000000       4.000000  \n",
       "50%       108.050000            13660.000000       5.000000  \n",
       "75%       189.480000            28605.000000       5.000000  \n",
       "max     13664.080000            99730.000000       5.000000  "
      ]
     },
     "execution_count": 8,
     "metadata": {},
     "output_type": "execute_result"
    }
   ],
   "source": [
    "# Main stats\n",
    "data.describe()"
   ]
  },
  {
   "cell_type": "markdown",
   "id": "ab1b4091",
   "metadata": {
    "papermill": {
     "duration": 0.021251,
     "end_time": "2022-07-20T18:10:29.677596",
     "exception": false,
     "start_time": "2022-07-20T18:10:29.656345",
     "status": "completed"
    },
    "tags": []
   },
   "source": [
    "# **How are review scores distributed?**"
   ]
  },
  {
   "cell_type": "code",
   "execution_count": 9,
   "id": "c9ff6171",
   "metadata": {
    "execution": {
     "iopub.execute_input": "2022-07-20T18:10:29.722983Z",
     "iopub.status.busy": "2022-07-20T18:10:29.722207Z",
     "iopub.status.idle": "2022-07-20T18:10:29.949052Z",
     "shell.execute_reply": "2022-07-20T18:10:29.947975Z"
    },
    "papermill": {
     "duration": 0.252478,
     "end_time": "2022-07-20T18:10:29.951723",
     "exception": false,
     "start_time": "2022-07-20T18:10:29.699245",
     "status": "completed"
    },
    "tags": []
   },
   "outputs": [
    {
     "data": {
      "text/plain": [
       "5    56.547501\n",
       "4    18.987276\n",
       "1    12.582065\n",
       "3     8.405920\n",
       "2     3.477238\n",
       "Name: review_score, dtype: float64"
      ]
     },
     "execution_count": 9,
     "metadata": {},
     "output_type": "execute_result"
    },
    {
     "data": {
      "image/png": "[encoded data removed]",
      "text/plain": [
       "<Figure size 432x288 with 1 Axes>"
      ]
     },
     "metadata": {
      "needs_background": "light"
     },
     "output_type": "display_data"
    }
   ],
   "source": [
    "sns.countplot(data[\"review_score\"])\n",
    "data[\"review_score\"].value_counts() / data[\"review_score\"].count() * 100"
   ]
  },
  {
   "cell_type": "markdown",
   "id": "1a451ae1",
   "metadata": {
    "papermill": {
     "duration": 0.021883,
     "end_time": "2022-07-20T18:10:29.996313",
     "exception": false,
     "start_time": "2022-07-20T18:10:29.974430",
     "status": "completed"
    },
    "tags": []
   },
   "source": [
    "Over 75% of customers gave a score equal or greater than 4. 12.5 % gave a score of 1 and about 12% gave a score of 3 or 2. "
   ]
  },
  {
   "cell_type": "markdown",
   "id": "4c976aa6",
   "metadata": {
    "papermill": {
     "duration": 0.021688,
     "end_time": "2022-07-20T18:10:30.040191",
     "exception": false,
     "start_time": "2022-07-20T18:10:30.018503",
     "status": "completed"
    },
    "tags": []
   },
   "source": [
    "# **Proportion of customers generating most of the revenue:**"
   ]
  },
  {
   "cell_type": "code",
   "execution_count": 10,
   "id": "6f52e190",
   "metadata": {
    "execution": {
     "iopub.execute_input": "2022-07-20T18:10:30.087129Z",
     "iopub.status.busy": "2022-07-20T18:10:30.086421Z",
     "iopub.status.idle": "2022-07-20T18:10:30.352689Z",
     "shell.execute_reply": "2022-07-20T18:10:30.351497Z"
    },
    "papermill": {
     "duration": 0.292517,
     "end_time": "2022-07-20T18:10:30.355259",
     "exception": false,
     "start_time": "2022-07-20T18:10:30.062742",
     "status": "completed"
    },
    "tags": []
   },
   "outputs": [],
   "source": [
    "# Customers wiht highest cum orders (in payments)\n",
    "top_customers = data.groupby(\"customer_unique_id\")[\"payment_value\"].sum().reset_index().sort_values(\"payment_value\", ascending=False)\n",
    "top_customers.rename(columns={\"payment_value\":\"total_paid\"}, inplace=True)"
   ]
  },
  {
   "cell_type": "code",
   "execution_count": 11,
   "id": "0fd1a56d",
   "metadata": {
    "execution": {
     "iopub.execute_input": "2022-07-20T18:10:30.401193Z",
     "iopub.status.busy": "2022-07-20T18:10:30.400766Z",
     "iopub.status.idle": "2022-07-20T18:10:33.758817Z",
     "shell.execute_reply": "2022-07-20T18:10:33.755823Z"
    },
    "papermill": {
     "duration": 3.384228,
     "end_time": "2022-07-20T18:10:33.761664",
     "exception": false,
     "start_time": "2022-07-20T18:10:30.377436",
     "status": "completed"
    },
    "tags": []
   },
   "outputs": [
    {
     "data": {
      "text/plain": [
       "Text(42000, 70, '40000 customers (about 42% of total customers) \\ncontribute to approximately 80% of total sales.')"
      ]
     },
     "execution_count": 11,
     "metadata": {},
     "output_type": "execute_result"
    },
    {
     "data": {
      "image/png": "[encoded data removed]",
      "text/plain": [
       "<Figure size 864x648 with 1 Axes>"
      ]
     },
     "metadata": {
      "needs_background": "light"
     },
     "output_type": "display_data"
    }
   ],
   "source": [
    "plt.figure(figsize=(12,9))\n",
    "top_customers[\"% of Total Sales\"] = (top_customers[\"total_paid\"] / top_customers[\"total_paid\"].sum()) * 100\n",
    "top_customers[\"Cum % of Total Sales\"] = top_customers[\"% of Total Sales\"].cumsum() \n",
    "#sns.displot(top_customers[\"Cum % of Total Sales\"])\n",
    "ax = sns.lineplot(x=range(1,len(top_customers)+1), y=\"Cum % of Total Sales\", data=top_customers)\n",
    "ax.set_xlabel(\"N° of Customers\")\n",
    "ax.set_title(\"% Contribution to Sales by number of customers\")\n",
    "a=np.arange(1,len(top_customers)+1)\n",
    "b=top_customers[\"Cum % of Total Sales\"]\n",
    "plt.fill_between(a, b, 0,\n",
    "                 where = (a >= 0) & (a <= 40000),\n",
    "                 color = 'g')\n",
    "ax.text(42000, 70, \"\"\"40000 customers (about 42% of total customers) \n",
    "contribute to approximately 80% of total sales.\"\"\", fontsize=14)"
   ]
  },
  {
   "cell_type": "markdown",
   "id": "a672fa68",
   "metadata": {
    "papermill": {
     "duration": 0.022432,
     "end_time": "2022-07-20T18:10:33.807494",
     "exception": false,
     "start_time": "2022-07-20T18:10:33.785062",
     "status": "completed"
    },
    "tags": []
   },
   "source": [
    "40000 customers (about 42% of total customers) contribute to approximately 80% of total sales."
   ]
  },
  {
   "cell_type": "markdown",
   "id": "418b3613",
   "metadata": {
    "papermill": {
     "duration": 0.022558,
     "end_time": "2022-07-20T18:10:33.854078",
     "exception": false,
     "start_time": "2022-07-20T18:10:33.831520",
     "status": "completed"
    },
    "tags": []
   },
   "source": [
    "# **Who are the top customers?**"
   ]
  },
  {
   "cell_type": "code",
   "execution_count": 12,
   "id": "ec08ccaf",
   "metadata": {
    "execution": {
     "iopub.execute_input": "2022-07-20T18:10:33.902247Z",
     "iopub.status.busy": "2022-07-20T18:10:33.901451Z",
     "iopub.status.idle": "2022-07-20T18:10:34.159242Z",
     "shell.execute_reply": "2022-07-20T18:10:34.158353Z"
    },
    "papermill": {
     "duration": 0.28462,
     "end_time": "2022-07-20T18:10:34.161571",
     "exception": false,
     "start_time": "2022-07-20T18:10:33.876951",
     "status": "completed"
    },
    "tags": []
   },
   "outputs": [
    {
     "data": {
      "text/plain": [
       "Text(0.5, 1.0, 'Top 10 Customers by total paid')"
      ]
     },
     "execution_count": 12,
     "metadata": {},
     "output_type": "execute_result"
    },
    {
     "data": {
      "image/png": "[encoded data removed]",
      "text/plain": [
       "<Figure size 432x288 with 1 Axes>"
      ]
     },
     "metadata": {
      "needs_background": "light"
     },
     "output_type": "display_data"
    }
   ],
   "source": [
    "top_customers.rename(columns={\"payment_value\" : \"total_paid\"}, inplace=True)\n",
    "ax = sns.barplot(x=\"total_paid\", y=\"customer_unique_id\", data=top_customers[:10])\n",
    "ax.set_title(\"Top 10 Customers by total paid\")"
   ]
  },
  {
   "cell_type": "markdown",
   "id": "ad704bd4",
   "metadata": {
    "papermill": {
     "duration": 0.023612,
     "end_time": "2022-07-20T18:10:34.209680",
     "exception": false,
     "start_time": "2022-07-20T18:10:34.186068",
     "status": "completed"
    },
    "tags": []
   },
   "source": [
    "# **Top cites by number of orders by state**"
   ]
  },
  {
   "cell_type": "code",
   "execution_count": 13,
   "id": "2c4c2a08",
   "metadata": {
    "execution": {
     "iopub.execute_input": "2022-07-20T18:10:34.258837Z",
     "iopub.status.busy": "2022-07-20T18:10:34.258148Z",
     "iopub.status.idle": "2022-07-20T18:10:34.507724Z",
     "shell.execute_reply": "2022-07-20T18:10:34.506924Z"
    },
    "papermill": {
     "duration": 0.27665,
     "end_time": "2022-07-20T18:10:34.509893",
     "exception": false,
     "start_time": "2022-07-20T18:10:34.233243",
     "status": "completed"
    },
    "tags": []
   },
   "outputs": [
    {
     "data": {
      "text/plain": [
       "Text(0.5, 1.0, 'TOP 10 states by num of orders')"
      ]
     },
     "execution_count": 13,
     "metadata": {},
     "output_type": "execute_result"
    },
    {
     "data": {
      "image/png": "[encoded data removed]",
      "text/plain": [
       "<Figure size 432x288 with 1 Axes>"
      ]
     },
     "metadata": {
      "needs_background": "light"
     },
     "output_type": "display_data"
    }
   ],
   "source": [
    "top_orders_cities = data.groupby(\"customer_state\")[\"order_id\"].count().reset_index().sort_values(\"order_id\", ascending=False)\n",
    "top_orders_cities.rename(columns={\"order_id\":\"count\"}, inplace=True)\n",
    "ax = sns.barplot(x=\"count\", y=\"customer_state\", data=top_orders_cities[:10])\n",
    "ax.set_title(\"TOP 10 states by num of orders\")"
   ]
  },
  {
   "cell_type": "markdown",
   "id": "79d198b4",
   "metadata": {
    "papermill": {
     "duration": 0.02434,
     "end_time": "2022-07-20T18:10:34.558348",
     "exception": false,
     "start_time": "2022-07-20T18:10:34.534008",
     "status": "completed"
    },
    "tags": []
   },
   "source": [
    "# **Cities with highest revenue generation**"
   ]
  },
  {
   "cell_type": "code",
   "execution_count": 14,
   "id": "9e300bf3",
   "metadata": {
    "execution": {
     "iopub.execute_input": "2022-07-20T18:10:34.608277Z",
     "iopub.status.busy": "2022-07-20T18:10:34.607651Z",
     "iopub.status.idle": "2022-07-20T18:10:34.635088Z",
     "shell.execute_reply": "2022-07-20T18:10:34.634221Z"
    },
    "papermill": {
     "duration": 0.055374,
     "end_time": "2022-07-20T18:10:34.637588",
     "exception": false,
     "start_time": "2022-07-20T18:10:34.582214",
     "status": "completed"
    },
    "tags": []
   },
   "outputs": [],
   "source": [
    "top_ordersbyvalue_cities = data.groupby(\"customer_city\")[\"payment_value\"].sum().reset_index().sort_values(\"payment_value\", ascending=False)\n",
    "top_ordersbyvalue_cities[\"% of Total Payments\"] = (top_ordersbyvalue_cities[\"payment_value\"] / top_ordersbyvalue_cities[\"payment_value\"].sum()) * 100\n",
    "top_ordersbyvalue_cities[\"Cum % of Total Payments\"] = top_ordersbyvalue_cities[\"% of Total Payments\"].cumsum() "
   ]
  },
  {
   "cell_type": "code",
   "execution_count": 15,
   "id": "0b7f9a40",
   "metadata": {
    "execution": {
     "iopub.execute_input": "2022-07-20T18:10:34.688273Z",
     "iopub.status.busy": "2022-07-20T18:10:34.687633Z",
     "iopub.status.idle": "2022-07-20T18:10:34.925737Z",
     "shell.execute_reply": "2022-07-20T18:10:34.924632Z"
    },
    "papermill": {
     "duration": 0.266131,
     "end_time": "2022-07-20T18:10:34.928139",
     "exception": false,
     "start_time": "2022-07-20T18:10:34.662008",
     "status": "completed"
    },
    "tags": []
   },
   "outputs": [
    {
     "data": {
      "text/plain": [
       "Text(0.5, 1.0, 'TOP 10 cities by revenue generation')"
      ]
     },
     "execution_count": 15,
     "metadata": {},
     "output_type": "execute_result"
    },
    {
     "data": {
      "image/png": "[encoded data removed]",
      "text/plain": [
       "<Figure size 432x288 with 1 Axes>"
      ]
     },
     "metadata": {
      "needs_background": "light"
     },
     "output_type": "display_data"
    }
   ],
   "source": [
    "ax = sns.barplot(x=\"% of Total Payments\", y=\"customer_city\", data=top_ordersbyvalue_cities[:10])\n",
    "ax.set_title(\"TOP 10 cities by revenue generation\")"
   ]
  },
  {
   "cell_type": "code",
   "execution_count": 16,
   "id": "03671b39",
   "metadata": {
    "execution": {
     "iopub.execute_input": "2022-07-20T18:10:34.980906Z",
     "iopub.status.busy": "2022-07-20T18:10:34.980544Z",
     "iopub.status.idle": "2022-07-20T18:10:35.351435Z",
     "shell.execute_reply": "2022-07-20T18:10:35.350215Z"
    },
    "papermill": {
     "duration": 0.400207,
     "end_time": "2022-07-20T18:10:35.353878",
     "exception": false,
     "start_time": "2022-07-20T18:10:34.953671",
     "status": "completed"
    },
    "tags": []
   },
   "outputs": [
    {
     "data": {
      "text/plain": [
       "Text(1000, 70, '358 Cities (about 8.7 % of total cities) \\ncontribute to approximately 80% of total sales.')"
      ]
     },
     "execution_count": 16,
     "metadata": {},
     "output_type": "execute_result"
    },
    {
     "data": {
      "image/png": "[encoded data removed]",
      "text/plain": [
       "<Figure size 864x648 with 1 Axes>"
      ]
     },
     "metadata": {
      "needs_background": "light"
     },
     "output_type": "display_data"
    }
   ],
   "source": [
    "plt.figure(figsize=(12,9))\n",
    "ax = sns.lineplot(x=range(1,len(top_ordersbyvalue_cities)+1), y=\"Cum % of Total Payments\", data=top_ordersbyvalue_cities)\n",
    "ax.set_xlabel(\"N° of cities\")\n",
    "ax.set_title(\"% Contribution to Sales by number of cities\")\n",
    "a=np.arange(1,len(top_ordersbyvalue_cities)+1)\n",
    "b=top_ordersbyvalue_cities[\"Cum % of Total Payments\"]\n",
    "plt.fill_between(a, b, 0,\n",
    "                 where = (a >= 0) & (a <= 358),\n",
    "                 color = 'g')\n",
    "ax.text(1000, 70, \"\"\"358 Cities (about 8.7 % of total cities) \n",
    "contribute to approximately 80% of total sales.\"\"\", fontsize=14)"
   ]
  },
  {
   "cell_type": "code",
   "execution_count": 17,
   "id": "9485d883",
   "metadata": {
    "execution": {
     "iopub.execute_input": "2022-07-20T18:10:35.407039Z",
     "iopub.status.busy": "2022-07-20T18:10:35.406026Z",
     "iopub.status.idle": "2022-07-20T18:10:35.415679Z",
     "shell.execute_reply": "2022-07-20T18:10:35.414403Z"
    },
    "papermill": {
     "duration": 0.039457,
     "end_time": "2022-07-20T18:10:35.418757",
     "exception": false,
     "start_time": "2022-07-20T18:10:35.379300",
     "status": "completed"
    },
    "tags": []
   },
   "outputs": [
    {
     "name": "stdout",
     "output_type": "stream",
     "text": [
      "Number of cities contributing to 80% of total sales: 358 or in %: 8.746640605912534\n"
     ]
    }
   ],
   "source": [
    "print(\"Number of cities contributing to 80% of total sales:\",\n",
    "      len(top_ordersbyvalue_cities[top_ordersbyvalue_cities[\"Cum % of Total Payments\"] <= 80]),\n",
    "      \"or in %:\",\n",
    "      (len(top_ordersbyvalue_cities[top_ordersbyvalue_cities[\"Cum % of Total Payments\"] <= 80]) / len(top_ordersbyvalue_cities)) * 100)"
   ]
  },
  {
   "cell_type": "markdown",
   "id": "7ff18152",
   "metadata": {
    "papermill": {
     "duration": 0.024844,
     "end_time": "2022-07-20T18:10:35.470224",
     "exception": false,
     "start_time": "2022-07-20T18:10:35.445380",
     "status": "completed"
    },
    "tags": []
   },
   "source": [
    "# **How do orders vary across time?**"
   ]
  },
  {
   "cell_type": "code",
   "execution_count": 18,
   "id": "486306e3",
   "metadata": {
    "execution": {
     "iopub.execute_input": "2022-07-20T18:10:35.522410Z",
     "iopub.status.busy": "2022-07-20T18:10:35.522008Z",
     "iopub.status.idle": "2022-07-20T18:10:36.624219Z",
     "shell.execute_reply": "2022-07-20T18:10:36.623127Z"
    },
    "papermill": {
     "duration": 1.131682,
     "end_time": "2022-07-20T18:10:36.627043",
     "exception": false,
     "start_time": "2022-07-20T18:10:35.495361",
     "status": "completed"
    },
    "tags": []
   },
   "outputs": [],
   "source": [
    "# Total orders by hour and dow\n",
    "# But before I need to convert the dates cols to datetime \n",
    "datesCols = [\"order_purchase_timestamp\", \"order_approved_at\", \"order_delivered_carrier_date\", \n",
    "            \"order_delivered_customer_date\", \"order_estimated_delivery_date\", \"shipping_limit_date\", \n",
    "            \"review_creation_date\", \"review_answer_timestamp\"]\n",
    "\n",
    "for col in datesCols:\n",
    "    data[col] = pd.to_datetime(data[col])"
   ]
  },
  {
   "cell_type": "code",
   "execution_count": 19,
   "id": "7b9d35ba",
   "metadata": {
    "execution": {
     "iopub.execute_input": "2022-07-20T18:10:36.680225Z",
     "iopub.status.busy": "2022-07-20T18:10:36.679384Z",
     "iopub.status.idle": "2022-07-20T18:10:36.758480Z",
     "shell.execute_reply": "2022-07-20T18:10:36.757499Z"
    },
    "papermill": {
     "duration": 0.108413,
     "end_time": "2022-07-20T18:10:36.761047",
     "exception": false,
     "start_time": "2022-07-20T18:10:36.652634",
     "status": "completed"
    },
    "tags": []
   },
   "outputs": [],
   "source": [
    "# Orders by hour\n",
    "orders_df[\"order_purchase_timestamp\"] = pd.to_datetime(orders_df[\"order_purchase_timestamp\"])\n",
    "orderbyhour = orders_df.groupby(orders_df[\"order_purchase_timestamp\"].dt.hour)[\"order_id\"].count().reset_index().sort_values(by=\"order_purchase_timestamp\", ascending=False)\n",
    "orderbyhour.rename(columns={\"order_id\":\"Total Orders\", \"order_purchase_timestamp\": \"Hour of Day\"}, inplace=True)"
   ]
  },
  {
   "cell_type": "code",
   "execution_count": 20,
   "id": "f51a45f1",
   "metadata": {
    "execution": {
     "iopub.execute_input": "2022-07-20T18:10:36.813839Z",
     "iopub.status.busy": "2022-07-20T18:10:36.813056Z",
     "iopub.status.idle": "2022-07-20T18:10:37.143271Z",
     "shell.execute_reply": "2022-07-20T18:10:37.141908Z"
    },
    "papermill": {
     "duration": 0.359227,
     "end_time": "2022-07-20T18:10:37.145718",
     "exception": false,
     "start_time": "2022-07-20T18:10:36.786491",
     "status": "completed"
    },
    "tags": []
   },
   "outputs": [
    {
     "data": {
      "text/plain": [
       "Text(0.5, 1.0, 'N° of Orders by hour')"
      ]
     },
     "execution_count": 20,
     "metadata": {},
     "output_type": "execute_result"
    },
    {
     "data": {
      "image/png": "[encoded data removed]",
      "text/plain": [
       "<Figure size 432x288 with 1 Axes>"
      ]
     },
     "metadata": {
      "needs_background": "light"
     },
     "output_type": "display_data"
    }
   ],
   "source": [
    "# Visualize data\n",
    "ax = sns.barplot(x=\"Hour of Day\", y=\"Total Orders\", data=orderbyhour)\n",
    "ax.set_title(\"N° of Orders by hour\")"
   ]
  },
  {
   "cell_type": "markdown",
   "id": "e459b155",
   "metadata": {
    "papermill": {
     "duration": 0.025829,
     "end_time": "2022-07-20T18:10:37.197702",
     "exception": false,
     "start_time": "2022-07-20T18:10:37.171873",
     "status": "completed"
    },
    "tags": []
   },
   "source": [
    "Orders start to increase at around 6 AM and peak at 4 PM."
   ]
  },
  {
   "cell_type": "code",
   "execution_count": 21,
   "id": "64e71523",
   "metadata": {
    "execution": {
     "iopub.execute_input": "2022-07-20T18:10:37.251797Z",
     "iopub.status.busy": "2022-07-20T18:10:37.251417Z",
     "iopub.status.idle": "2022-07-20T18:10:37.338343Z",
     "shell.execute_reply": "2022-07-20T18:10:37.337239Z"
    },
    "papermill": {
     "duration": 0.117561,
     "end_time": "2022-07-20T18:10:37.341361",
     "exception": false,
     "start_time": "2022-07-20T18:10:37.223800",
     "status": "completed"
    },
    "tags": []
   },
   "outputs": [],
   "source": [
    "# Orders by day of the week\n",
    "orderbydow = data.groupby(data[\"order_purchase_timestamp\"].dt.day_name())[\"order_id\"].count().reset_index()\n",
    "orderbydow.rename(columns={\"order_id\":\"Total Orders\", \"order_purchase_timestamp\": \"Weekday Name\"}, inplace=True)\n",
    "orderbydow = orderbydow.sort_values(by=\"Total Orders\", ascending=False)"
   ]
  },
  {
   "cell_type": "code",
   "execution_count": 22,
   "id": "945ccbe0",
   "metadata": {
    "execution": {
     "iopub.execute_input": "2022-07-20T18:10:37.395704Z",
     "iopub.status.busy": "2022-07-20T18:10:37.394986Z",
     "iopub.status.idle": "2022-07-20T18:10:37.612677Z",
     "shell.execute_reply": "2022-07-20T18:10:37.611860Z"
    },
    "papermill": {
     "duration": 0.247411,
     "end_time": "2022-07-20T18:10:37.614684",
     "exception": false,
     "start_time": "2022-07-20T18:10:37.367273",
     "status": "completed"
    },
    "tags": []
   },
   "outputs": [
    {
     "data": {
      "text/plain": [
       "Text(0.5, 1.0, 'N° of Orders by DOW')"
      ]
     },
     "execution_count": 22,
     "metadata": {},
     "output_type": "execute_result"
    },
    {
     "data": {
      "image/png": "[encoded data removed]",
      "text/plain": [
       "<Figure size 648x576 with 1 Axes>"
      ]
     },
     "metadata": {
      "needs_background": "light"
     },
     "output_type": "display_data"
    }
   ],
   "source": [
    "plt.figure(figsize = (9,8))\n",
    "ax = sns.barplot(x=\"Weekday Name\", y=\"Total Orders\", data=orderbydow)\n",
    "ax.set_xlabel('')\n",
    "ax.set_title(\"N° of Orders by DOW\")"
   ]
  },
  {
   "cell_type": "markdown",
   "id": "cce37552",
   "metadata": {
    "papermill": {
     "duration": 0.026772,
     "end_time": "2022-07-20T18:10:37.669141",
     "exception": false,
     "start_time": "2022-07-20T18:10:37.642369",
     "status": "completed"
    },
    "tags": []
   },
   "source": [
    "Orders peak at the begining of the week (Monday and Tuesday) and start to decline a bit afterwards. During the weekend we obsevre a sharp decrease of orders."
   ]
  },
  {
   "cell_type": "markdown",
   "id": "3dc01d2b",
   "metadata": {
    "papermill": {
     "duration": 0.026167,
     "end_time": "2022-07-20T18:10:37.721873",
     "exception": false,
     "start_time": "2022-07-20T18:10:37.695706",
     "status": "completed"
    },
    "tags": []
   },
   "source": [
    "# **How products are rated ?**"
   ]
  },
  {
   "cell_type": "code",
   "execution_count": 23,
   "id": "91e165f7",
   "metadata": {
    "execution": {
     "iopub.execute_input": "2022-07-20T18:10:37.776991Z",
     "iopub.status.busy": "2022-07-20T18:10:37.776321Z",
     "iopub.status.idle": "2022-07-20T18:10:37.805476Z",
     "shell.execute_reply": "2022-07-20T18:10:37.804670Z"
    },
    "papermill": {
     "duration": 0.058971,
     "end_time": "2022-07-20T18:10:37.807502",
     "exception": false,
     "start_time": "2022-07-20T18:10:37.748531",
     "status": "completed"
    },
    "tags": []
   },
   "outputs": [
    {
     "data": {
      "text/html": [
       "<div>\n",
       "<style scoped>\n",
       "    .dataframe tbody tr th:only-of-type {\n",
       "        vertical-align: middle;\n",
       "    }\n",
       "\n",
       "    .dataframe tbody tr th {\n",
       "        vertical-align: top;\n",
       "    }\n",
       "\n",
       "    .dataframe thead th {\n",
       "        text-align: right;\n",
       "    }\n",
       "</style>\n",
       "<table border=\"1\" class=\"dataframe\">\n",
       "  <thead>\n",
       "    <tr style=\"text-align: right;\">\n",
       "      <th></th>\n",
       "      <th>mean</th>\n",
       "      <th>count</th>\n",
       "    </tr>\n",
       "    <tr>\n",
       "      <th>product_category_name_english</th>\n",
       "      <th></th>\n",
       "      <th></th>\n",
       "    </tr>\n",
       "  </thead>\n",
       "  <tbody>\n",
       "    <tr>\n",
       "      <th>books_general_interest</th>\n",
       "      <td>4.438503</td>\n",
       "      <td>561</td>\n",
       "    </tr>\n",
       "    <tr>\n",
       "      <th>books_imported</th>\n",
       "      <td>4.419355</td>\n",
       "      <td>62</td>\n",
       "    </tr>\n",
       "    <tr>\n",
       "      <th>flowers</th>\n",
       "      <td>4.419355</td>\n",
       "      <td>31</td>\n",
       "    </tr>\n",
       "    <tr>\n",
       "      <th>costruction_tools_tools</th>\n",
       "      <td>4.415842</td>\n",
       "      <td>101</td>\n",
       "    </tr>\n",
       "    <tr>\n",
       "      <th>books_technical</th>\n",
       "      <td>4.375465</td>\n",
       "      <td>269</td>\n",
       "    </tr>\n",
       "    <tr>\n",
       "      <th>food_drink</th>\n",
       "      <td>4.324138</td>\n",
       "      <td>290</td>\n",
       "    </tr>\n",
       "    <tr>\n",
       "      <th>small_appliances_home_oven_and_coffee</th>\n",
       "      <td>4.320513</td>\n",
       "      <td>78</td>\n",
       "    </tr>\n",
       "    <tr>\n",
       "      <th>luggage_accessories</th>\n",
       "      <td>4.295945</td>\n",
       "      <td>1159</td>\n",
       "    </tr>\n",
       "    <tr>\n",
       "      <th>fashion_sport</th>\n",
       "      <td>4.258065</td>\n",
       "      <td>31</td>\n",
       "    </tr>\n",
       "    <tr>\n",
       "      <th>food</th>\n",
       "      <td>4.228963</td>\n",
       "      <td>511</td>\n",
       "    </tr>\n",
       "  </tbody>\n",
       "</table>\n",
       "</div>"
      ],
      "text/plain": [
       "                                           mean  count\n",
       "product_category_name_english                         \n",
       "books_general_interest                 4.438503    561\n",
       "books_imported                         4.419355     62\n",
       "flowers                                4.419355     31\n",
       "costruction_tools_tools                4.415842    101\n",
       "books_technical                        4.375465    269\n",
       "food_drink                             4.324138    290\n",
       "small_appliances_home_oven_and_coffee  4.320513     78\n",
       "luggage_accessories                    4.295945   1159\n",
       "fashion_sport                          4.258065     31\n",
       "food                                   4.228963    511"
      ]
     },
     "execution_count": 23,
     "metadata": {},
     "output_type": "execute_result"
    },
    {
     "data": {
      "text/plain": [
       "<Figure size 864x864 with 0 Axes>"
      ]
     },
     "metadata": {},
     "output_type": "display_data"
    }
   ],
   "source": [
    "# Best and worst rated products\n",
    "plt.figure(figsize=(12,12))\n",
    "reviewsocres = data.groupby(\"product_category_name_english\")[\"review_score\"].agg([\"mean\", \"count\"]).sort_values(by=\"mean\",ascending=False)\n",
    "#ax = sns.barplot(y=bestrated.index, x=bestrated.values)\n",
    "# Get only products with 30 or more reviews in order to have a more realistic idea about the rating\n",
    "bestrated = reviewsocres[reviewsocres[\"count\"]>=30][:10]\n",
    "bestrated"
   ]
  },
  {
   "cell_type": "code",
   "execution_count": 24,
   "id": "d593478d",
   "metadata": {
    "execution": {
     "iopub.execute_input": "2022-07-20T18:10:37.867171Z",
     "iopub.status.busy": "2022-07-20T18:10:37.866290Z",
     "iopub.status.idle": "2022-07-20T18:10:37.880818Z",
     "shell.execute_reply": "2022-07-20T18:10:37.879684Z"
    },
    "papermill": {
     "duration": 0.04784,
     "end_time": "2022-07-20T18:10:37.884120",
     "exception": false,
     "start_time": "2022-07-20T18:10:37.836280",
     "status": "completed"
    },
    "tags": []
   },
   "outputs": [
    {
     "data": {
      "text/html": [
       "<div>\n",
       "<style scoped>\n",
       "    .dataframe tbody tr th:only-of-type {\n",
       "        vertical-align: middle;\n",
       "    }\n",
       "\n",
       "    .dataframe tbody tr th {\n",
       "        vertical-align: top;\n",
       "    }\n",
       "\n",
       "    .dataframe thead th {\n",
       "        text-align: right;\n",
       "    }\n",
       "</style>\n",
       "<table border=\"1\" class=\"dataframe\">\n",
       "  <thead>\n",
       "    <tr style=\"text-align: right;\">\n",
       "      <th></th>\n",
       "      <th>mean</th>\n",
       "      <th>count</th>\n",
       "    </tr>\n",
       "    <tr>\n",
       "      <th>product_category_name_english</th>\n",
       "      <th></th>\n",
       "      <th></th>\n",
       "    </tr>\n",
       "  </thead>\n",
       "  <tbody>\n",
       "    <tr>\n",
       "      <th>diapers_and_hygiene</th>\n",
       "      <td>3.256410</td>\n",
       "      <td>39</td>\n",
       "    </tr>\n",
       "    <tr>\n",
       "      <th>office_furniture</th>\n",
       "      <td>3.526791</td>\n",
       "      <td>1773</td>\n",
       "    </tr>\n",
       "    <tr>\n",
       "      <th>fashion_male_clothing</th>\n",
       "      <td>3.548611</td>\n",
       "      <td>144</td>\n",
       "    </tr>\n",
       "    <tr>\n",
       "      <th>fixed_telephony</th>\n",
       "      <td>3.672862</td>\n",
       "      <td>269</td>\n",
       "    </tr>\n",
       "    <tr>\n",
       "      <th>fashio_female_clothing</th>\n",
       "      <td>3.780000</td>\n",
       "      <td>50</td>\n",
       "    </tr>\n",
       "    <tr>\n",
       "      <th>furniture_mattress_and_upholstery</th>\n",
       "      <td>3.804878</td>\n",
       "      <td>41</td>\n",
       "    </tr>\n",
       "    <tr>\n",
       "      <th>audio</th>\n",
       "      <td>3.840849</td>\n",
       "      <td>377</td>\n",
       "    </tr>\n",
       "    <tr>\n",
       "      <th>furniture_bedroom</th>\n",
       "      <td>3.841270</td>\n",
       "      <td>126</td>\n",
       "    </tr>\n",
       "    <tr>\n",
       "      <th>party_supplies</th>\n",
       "      <td>3.847826</td>\n",
       "      <td>46</td>\n",
       "    </tr>\n",
       "    <tr>\n",
       "      <th>construction_tools_safety</th>\n",
       "      <td>3.848485</td>\n",
       "      <td>198</td>\n",
       "    </tr>\n",
       "  </tbody>\n",
       "</table>\n",
       "</div>"
      ],
      "text/plain": [
       "                                       mean  count\n",
       "product_category_name_english                     \n",
       "diapers_and_hygiene                3.256410     39\n",
       "office_furniture                   3.526791   1773\n",
       "fashion_male_clothing              3.548611    144\n",
       "fixed_telephony                    3.672862    269\n",
       "fashio_female_clothing             3.780000     50\n",
       "furniture_mattress_and_upholstery  3.804878     41\n",
       "audio                              3.840849    377\n",
       "furniture_bedroom                  3.841270    126\n",
       "party_supplies                     3.847826     46\n",
       "construction_tools_safety          3.848485    198"
      ]
     },
     "execution_count": 24,
     "metadata": {},
     "output_type": "execute_result"
    }
   ],
   "source": [
    "# Bottom 10 Products by review socre\n",
    "worstrated = reviewsocres[reviewsocres[\"count\"]>=30].sort_values(by='mean')[:10]\n",
    "worstrated"
   ]
  },
  {
   "cell_type": "markdown",
   "id": "c9be574d",
   "metadata": {
    "papermill": {
     "duration": 0.026977,
     "end_time": "2022-07-20T18:10:37.940552",
     "exception": false,
     "start_time": "2022-07-20T18:10:37.913575",
     "status": "completed"
    },
    "tags": []
   },
   "source": [
    "# **Does payment method affect order status?**"
   ]
  },
  {
   "cell_type": "code",
   "execution_count": 25,
   "id": "501e8874",
   "metadata": {
    "execution": {
     "iopub.execute_input": "2022-07-20T18:10:37.997181Z",
     "iopub.status.busy": "2022-07-20T18:10:37.995976Z",
     "iopub.status.idle": "2022-07-20T18:10:38.141470Z",
     "shell.execute_reply": "2022-07-20T18:10:38.140232Z"
    },
    "papermill": {
     "duration": 0.176392,
     "end_time": "2022-07-20T18:10:38.143935",
     "exception": false,
     "start_time": "2022-07-20T18:10:37.967543",
     "status": "completed"
    },
    "tags": []
   },
   "outputs": [
    {
     "data": {
      "text/html": [
       "<div>\n",
       "<style scoped>\n",
       "    .dataframe tbody tr th:only-of-type {\n",
       "        vertical-align: middle;\n",
       "    }\n",
       "\n",
       "    .dataframe tbody tr th {\n",
       "        vertical-align: top;\n",
       "    }\n",
       "\n",
       "    .dataframe thead th {\n",
       "        text-align: right;\n",
       "    }\n",
       "</style>\n",
       "<table border=\"1\" class=\"dataframe\">\n",
       "  <thead>\n",
       "    <tr style=\"text-align: right;\">\n",
       "      <th>order_status</th>\n",
       "      <th>canceled</th>\n",
       "      <th>delivered</th>\n",
       "      <th>% Canceled</th>\n",
       "      <th>Avg Cancelation Rate</th>\n",
       "    </tr>\n",
       "    <tr>\n",
       "      <th>payment_type</th>\n",
       "      <th></th>\n",
       "      <th></th>\n",
       "      <th></th>\n",
       "      <th></th>\n",
       "    </tr>\n",
       "  </thead>\n",
       "  <tbody>\n",
       "    <tr>\n",
       "      <th>boleto</th>\n",
       "      <td>92</td>\n",
       "      <td>22029</td>\n",
       "      <td>0.417631</td>\n",
       "      <td>0.473456</td>\n",
       "    </tr>\n",
       "    <tr>\n",
       "      <th>credit_card</th>\n",
       "      <td>411</td>\n",
       "      <td>83536</td>\n",
       "      <td>0.492003</td>\n",
       "      <td>0.473456</td>\n",
       "    </tr>\n",
       "    <tr>\n",
       "      <th>debit_card</th>\n",
       "      <td>6</td>\n",
       "      <td>1623</td>\n",
       "      <td>0.369686</td>\n",
       "      <td>0.473456</td>\n",
       "    </tr>\n",
       "    <tr>\n",
       "      <th>voucher</th>\n",
       "      <td>27</td>\n",
       "      <td>6022</td>\n",
       "      <td>0.448356</td>\n",
       "      <td>0.473456</td>\n",
       "    </tr>\n",
       "  </tbody>\n",
       "</table>\n",
       "</div>"
      ],
      "text/plain": [
       "order_status  canceled  delivered  % Canceled  Avg Cancelation Rate\n",
       "payment_type                                                       \n",
       "boleto              92      22029    0.417631              0.473456\n",
       "credit_card        411      83536    0.492003              0.473456\n",
       "debit_card           6       1623    0.369686              0.473456\n",
       "voucher             27       6022    0.448356              0.473456"
      ]
     },
     "execution_count": 25,
     "metadata": {},
     "output_type": "execute_result"
    }
   ],
   "source": [
    "# For example: does paying cash increase order cancelation\n",
    "cashvscancel = pd.crosstab(data[\"payment_type\"], data[\"order_status\"])\n",
    "cashvscancel = cashvscancel[[\"canceled\", \"delivered\"]]\n",
    "cashvscancel[\"% Canceled\"] = (cashvscancel[\"canceled\"] / cashvscancel[\"delivered\"] ) * 100\n",
    "cashvscancel[\"Avg Cancelation Rate\"] = (len(data[data[\"order_status\"] == \"canceled\"]) / len(data[data[\"order_status\"] == \"delivered\"])) * 100\n",
    "cashvscancel\n"
   ]
  },
  {
   "cell_type": "markdown",
   "id": "b0875bb2",
   "metadata": {
    "papermill": {
     "duration": 0.027854,
     "end_time": "2022-07-20T18:10:38.200388",
     "exception": false,
     "start_time": "2022-07-20T18:10:38.172534",
     "status": "completed"
    },
    "tags": []
   },
   "source": [
    "We can see that the cancelation rate is pretty much the same across the payment methods. But we notice a slight deviation above the mean for credit_card."
   ]
  },
  {
   "cell_type": "markdown",
   "id": "c6d58b73",
   "metadata": {
    "papermill": {
     "duration": 0.027181,
     "end_time": "2022-07-20T18:10:38.254493",
     "exception": false,
     "start_time": "2022-07-20T18:10:38.227312",
     "status": "completed"
    },
    "tags": []
   },
   "source": [
    "# **Is there any relationship between delivery time and review scores**"
   ]
  },
  {
   "cell_type": "code",
   "execution_count": 26,
   "id": "99450b76",
   "metadata": {
    "execution": {
     "iopub.execute_input": "2022-07-20T18:10:38.310896Z",
     "iopub.status.busy": "2022-07-20T18:10:38.310213Z",
     "iopub.status.idle": "2022-07-20T18:10:39.776616Z",
     "shell.execute_reply": "2022-07-20T18:10:39.775411Z"
    },
    "papermill": {
     "duration": 1.497666,
     "end_time": "2022-07-20T18:10:39.779018",
     "exception": false,
     "start_time": "2022-07-20T18:10:38.281352",
     "status": "completed"
    },
    "tags": []
   },
   "outputs": [],
   "source": [
    "# Add delta column which computes the time it took for the order to get delivered\n",
    "data[\"TimeToDeliveryinHours\"] = (data[\"order_delivered_customer_date\"] - data[\"order_purchase_timestamp\"])\n",
    "data[\"TimeToDeliveryinHours\"] = data[\"TimeToDeliveryinHours\"].apply(lambda x: x.total_seconds())\n",
    "data[\"TimeToDeliveryinHours\"] = round((data[\"TimeToDeliveryinHours\"] / 3600) / 24, 2)\n",
    "data.rename(columns={\"TimeToDeliveryinHours\" : \"TimeToDeliveryinDays\"}, inplace=True)"
   ]
  },
  {
   "cell_type": "code",
   "execution_count": 27,
   "id": "57352838",
   "metadata": {
    "execution": {
     "iopub.execute_input": "2022-07-20T18:10:39.835076Z",
     "iopub.status.busy": "2022-07-20T18:10:39.834389Z",
     "iopub.status.idle": "2022-07-20T18:10:39.860111Z",
     "shell.execute_reply": "2022-07-20T18:10:39.859198Z"
    },
    "papermill": {
     "duration": 0.056352,
     "end_time": "2022-07-20T18:10:39.862454",
     "exception": false,
     "start_time": "2022-07-20T18:10:39.806102",
     "status": "completed"
    },
    "tags": []
   },
   "outputs": [
    {
     "data": {
      "text/html": [
       "<div>\n",
       "<style scoped>\n",
       "    .dataframe tbody tr th:only-of-type {\n",
       "        vertical-align: middle;\n",
       "    }\n",
       "\n",
       "    .dataframe tbody tr th {\n",
       "        vertical-align: top;\n",
       "    }\n",
       "\n",
       "    .dataframe thead th {\n",
       "        text-align: right;\n",
       "    }\n",
       "</style>\n",
       "<table border=\"1\" class=\"dataframe\">\n",
       "  <thead>\n",
       "    <tr style=\"text-align: right;\">\n",
       "      <th></th>\n",
       "      <th>TimeToDeliveryinDays</th>\n",
       "    </tr>\n",
       "  </thead>\n",
       "  <tbody>\n",
       "    <tr>\n",
       "      <th>count</th>\n",
       "      <td>113209.000000</td>\n",
       "    </tr>\n",
       "    <tr>\n",
       "      <th>mean</th>\n",
       "      <td>12.442130</td>\n",
       "    </tr>\n",
       "    <tr>\n",
       "      <th>std</th>\n",
       "      <td>9.356005</td>\n",
       "    </tr>\n",
       "    <tr>\n",
       "      <th>min</th>\n",
       "      <td>0.530000</td>\n",
       "    </tr>\n",
       "    <tr>\n",
       "      <th>25%</th>\n",
       "      <td>6.740000</td>\n",
       "    </tr>\n",
       "    <tr>\n",
       "      <th>50%</th>\n",
       "      <td>10.190000</td>\n",
       "    </tr>\n",
       "    <tr>\n",
       "      <th>75%</th>\n",
       "      <td>15.500000</td>\n",
       "    </tr>\n",
       "    <tr>\n",
       "      <th>max</th>\n",
       "      <td>208.350000</td>\n",
       "    </tr>\n",
       "  </tbody>\n",
       "</table>\n",
       "</div>"
      ],
      "text/plain": [
       "       TimeToDeliveryinDays\n",
       "count         113209.000000\n",
       "mean              12.442130\n",
       "std                9.356005\n",
       "min                0.530000\n",
       "25%                6.740000\n",
       "50%               10.190000\n",
       "75%               15.500000\n",
       "max              208.350000"
      ]
     },
     "execution_count": 27,
     "metadata": {},
     "output_type": "execute_result"
    }
   ],
   "source": [
    "# Main stats of deliverytime\n",
    "data[[\"TimeToDeliveryinDays\"]].describe()"
   ]
  },
  {
   "cell_type": "markdown",
   "id": "568b6572",
   "metadata": {
    "papermill": {
     "duration": 0.026768,
     "end_time": "2022-07-20T18:10:39.916861",
     "exception": false,
     "start_time": "2022-07-20T18:10:39.890093",
     "status": "completed"
    },
    "tags": []
   },
   "source": [
    "Delivery time is quite high on average (12.44 days) with median of (10.19 days). We notice an extreme outlier of 208 days. "
   ]
  },
  {
   "cell_type": "code",
   "execution_count": 28,
   "id": "d318e925",
   "metadata": {
    "execution": {
     "iopub.execute_input": "2022-07-20T18:10:39.973037Z",
     "iopub.status.busy": "2022-07-20T18:10:39.972317Z",
     "iopub.status.idle": "2022-07-20T18:10:40.210110Z",
     "shell.execute_reply": "2022-07-20T18:10:40.209044Z"
    },
    "papermill": {
     "duration": 0.268421,
     "end_time": "2022-07-20T18:10:40.212236",
     "exception": false,
     "start_time": "2022-07-20T18:10:39.943815",
     "status": "completed"
    },
    "tags": []
   },
   "outputs": [
    {
     "data": {
      "text/plain": [
       "<AxesSubplot:xlabel='review_score', ylabel='TimeToDeliveryinDays'>"
      ]
     },
     "execution_count": 28,
     "metadata": {},
     "output_type": "execute_result"
    },
    {
     "data": {
      "image/png": "[encoded data removed]",
      "text/plain": [
       "<Figure size 432x288 with 1 Axes>"
      ]
     },
     "metadata": {
      "needs_background": "light"
     },
     "output_type": "display_data"
    }
   ],
   "source": [
    "sns.boxplot(x=\"review_score\", y=\"TimeToDeliveryinDays\", data=data)"
   ]
  },
  {
   "cell_type": "markdown",
   "id": "bab1f63e",
   "metadata": {
    "papermill": {
     "duration": 0.027821,
     "end_time": "2022-07-20T18:10:40.267815",
     "exception": false,
     "start_time": "2022-07-20T18:10:40.239994",
     "status": "completed"
    },
    "tags": []
   },
   "source": [
    "We can see that we have multiple outliers. These are orders that took very long to get delivered for some reason. "
   ]
  },
  {
   "cell_type": "code",
   "execution_count": 29,
   "id": "30045984",
   "metadata": {
    "execution": {
     "iopub.execute_input": "2022-07-20T18:10:40.326784Z",
     "iopub.status.busy": "2022-07-20T18:10:40.325866Z",
     "iopub.status.idle": "2022-07-20T18:10:40.603734Z",
     "shell.execute_reply": "2022-07-20T18:10:40.602490Z"
    },
    "papermill": {
     "duration": 0.310463,
     "end_time": "2022-07-20T18:10:40.606383",
     "exception": false,
     "start_time": "2022-07-20T18:10:40.295920",
     "status": "completed"
    },
    "tags": []
   },
   "outputs": [
    {
     "data": {
      "text/plain": [
       "<AxesSubplot:xlabel='review_score', ylabel='TimeToDeliveryinDays'>"
      ]
     },
     "execution_count": 29,
     "metadata": {},
     "output_type": "execute_result"
    },
    {
     "data": {
      "image/png": "[encoded data removed]",
      "text/plain": [
       "<Figure size 432x288 with 1 Axes>"
      ]
     },
     "metadata": {
      "needs_background": "light"
     },
     "output_type": "display_data"
    }
   ],
   "source": [
    "# Outliers removal\n",
    "q_high = data[\"TimeToDeliveryinDays\"].quantile(0.95)\n",
    "data_no_outliers = data[data[\"TimeToDeliveryinDays\"] < q_high]\n",
    "sns.boxplot(x=\"review_score\", y=\"TimeToDeliveryinDays\", data=data_no_outliers)"
   ]
  },
  {
   "cell_type": "markdown",
   "id": "ae7f1681",
   "metadata": {
    "papermill": {
     "duration": 0.027821,
     "end_time": "2022-07-20T18:10:40.662224",
     "exception": false,
     "start_time": "2022-07-20T18:10:40.634403",
     "status": "completed"
    },
    "tags": []
   },
   "source": [
    "Our initial hypothesis is confirmed. We can clearly see a direct relationship between timetodelivery and review_score. As the delivery time decreases, the review_score tends to go higher."
   ]
  },
  {
   "cell_type": "markdown",
   "id": "f27c07f3",
   "metadata": {
    "papermill": {
     "duration": 0.028733,
     "end_time": "2022-07-20T18:10:40.719641",
     "exception": false,
     "start_time": "2022-07-20T18:10:40.690908",
     "status": "completed"
    },
    "tags": []
   },
   "source": [
    "# **What are the sellers' cities with lowest/highest delivery time?**"
   ]
  },
  {
   "cell_type": "code",
   "execution_count": 30,
   "id": "fa0739f9",
   "metadata": {
    "execution": {
     "iopub.execute_input": "2022-07-20T18:10:40.779551Z",
     "iopub.status.busy": "2022-07-20T18:10:40.778828Z",
     "iopub.status.idle": "2022-07-20T18:10:40.809096Z",
     "shell.execute_reply": "2022-07-20T18:10:40.808222Z"
    },
    "papermill": {
     "duration": 0.062595,
     "end_time": "2022-07-20T18:10:40.811535",
     "exception": false,
     "start_time": "2022-07-20T18:10:40.748940",
     "status": "completed"
    },
    "tags": []
   },
   "outputs": [],
   "source": [
    "# Let's see sellers with best deliverytime\n",
    "sellersdeliverytime = data.groupby(\"seller_city\")[\"TimeToDeliveryinDays\"].agg([\"min\", \"max\", \"mean\", \"std\", \"count\" ]).dropna().sort_values(\"mean\").reset_index()\n",
    "# Filter for sellers with 30 or more orders in their history\n",
    "sellersdeliverytime = sellersdeliverytime[sellersdeliverytime[\"count\"]>=30]"
   ]
  },
  {
   "cell_type": "code",
   "execution_count": 31,
   "id": "3735a92c",
   "metadata": {
    "execution": {
     "iopub.execute_input": "2022-07-20T18:10:40.871437Z",
     "iopub.status.busy": "2022-07-20T18:10:40.870539Z",
     "iopub.status.idle": "2022-07-20T18:10:40.876853Z",
     "shell.execute_reply": "2022-07-20T18:10:40.876027Z"
    },
    "papermill": {
     "duration": 0.038594,
     "end_time": "2022-07-20T18:10:40.879061",
     "exception": false,
     "start_time": "2022-07-20T18:10:40.840467",
     "status": "completed"
    },
    "tags": []
   },
   "outputs": [],
   "source": [
    "fastestdeliverysellers = sellersdeliverytime[:10]\n",
    "slowestdeliverysellers = sellersdeliverytime.sort_values(\"mean\", ascending=False)[:10]"
   ]
  },
  {
   "cell_type": "code",
   "execution_count": 32,
   "id": "6b24175b",
   "metadata": {
    "execution": {
     "iopub.execute_input": "2022-07-20T18:10:40.940891Z",
     "iopub.status.busy": "2022-07-20T18:10:40.940060Z",
     "iopub.status.idle": "2022-07-20T18:10:40.956392Z",
     "shell.execute_reply": "2022-07-20T18:10:40.955200Z"
    },
    "papermill": {
     "duration": 0.050591,
     "end_time": "2022-07-20T18:10:40.958957",
     "exception": false,
     "start_time": "2022-07-20T18:10:40.908366",
     "status": "completed"
    },
    "tags": []
   },
   "outputs": [
    {
     "data": {
      "text/html": [
       "<div>\n",
       "<style scoped>\n",
       "    .dataframe tbody tr th:only-of-type {\n",
       "        vertical-align: middle;\n",
       "    }\n",
       "\n",
       "    .dataframe tbody tr th {\n",
       "        vertical-align: top;\n",
       "    }\n",
       "\n",
       "    .dataframe thead th {\n",
       "        text-align: right;\n",
       "    }\n",
       "</style>\n",
       "<table border=\"1\" class=\"dataframe\">\n",
       "  <thead>\n",
       "    <tr style=\"text-align: right;\">\n",
       "      <th></th>\n",
       "      <th>seller_city</th>\n",
       "      <th>min</th>\n",
       "      <th>max</th>\n",
       "      <th>mean</th>\n",
       "      <th>std</th>\n",
       "      <th>count</th>\n",
       "    </tr>\n",
       "  </thead>\n",
       "  <tbody>\n",
       "    <tr>\n",
       "      <th>14</th>\n",
       "      <td>varzea paulista</td>\n",
       "      <td>2.58</td>\n",
       "      <td>21.07</td>\n",
       "      <td>5.877297</td>\n",
       "      <td>3.284975</td>\n",
       "      <td>37</td>\n",
       "    </tr>\n",
       "    <tr>\n",
       "      <th>41</th>\n",
       "      <td>hortolandia</td>\n",
       "      <td>1.39</td>\n",
       "      <td>71.09</td>\n",
       "      <td>7.587543</td>\n",
       "      <td>6.676258</td>\n",
       "      <td>350</td>\n",
       "    </tr>\n",
       "    <tr>\n",
       "      <th>53</th>\n",
       "      <td>ribeirao preto / sao paulo</td>\n",
       "      <td>2.45</td>\n",
       "      <td>27.32</td>\n",
       "      <td>7.944500</td>\n",
       "      <td>4.055726</td>\n",
       "      <td>40</td>\n",
       "    </tr>\n",
       "    <tr>\n",
       "      <th>60</th>\n",
       "      <td>rio claro</td>\n",
       "      <td>1.70</td>\n",
       "      <td>34.88</td>\n",
       "      <td>8.144035</td>\n",
       "      <td>6.283043</td>\n",
       "      <td>114</td>\n",
       "    </tr>\n",
       "    <tr>\n",
       "      <th>61</th>\n",
       "      <td>ferraz de vasconcelos</td>\n",
       "      <td>1.17</td>\n",
       "      <td>20.84</td>\n",
       "      <td>8.186316</td>\n",
       "      <td>6.443319</td>\n",
       "      <td>38</td>\n",
       "    </tr>\n",
       "    <tr>\n",
       "      <th>63</th>\n",
       "      <td>vicente de carvalho</td>\n",
       "      <td>1.54</td>\n",
       "      <td>42.43</td>\n",
       "      <td>8.309910</td>\n",
       "      <td>6.604570</td>\n",
       "      <td>221</td>\n",
       "    </tr>\n",
       "    <tr>\n",
       "      <th>67</th>\n",
       "      <td>poa</td>\n",
       "      <td>1.09</td>\n",
       "      <td>38.20</td>\n",
       "      <td>8.533029</td>\n",
       "      <td>6.005796</td>\n",
       "      <td>175</td>\n",
       "    </tr>\n",
       "    <tr>\n",
       "      <th>70</th>\n",
       "      <td>carazinho</td>\n",
       "      <td>3.16</td>\n",
       "      <td>19.13</td>\n",
       "      <td>8.640656</td>\n",
       "      <td>3.858348</td>\n",
       "      <td>61</td>\n",
       "    </tr>\n",
       "    <tr>\n",
       "      <th>79</th>\n",
       "      <td>betim</td>\n",
       "      <td>1.24</td>\n",
       "      <td>53.85</td>\n",
       "      <td>8.818312</td>\n",
       "      <td>6.242661</td>\n",
       "      <td>314</td>\n",
       "    </tr>\n",
       "    <tr>\n",
       "      <th>85</th>\n",
       "      <td>maua</td>\n",
       "      <td>1.51</td>\n",
       "      <td>42.57</td>\n",
       "      <td>8.977107</td>\n",
       "      <td>5.455932</td>\n",
       "      <td>484</td>\n",
       "    </tr>\n",
       "  </tbody>\n",
       "</table>\n",
       "</div>"
      ],
      "text/plain": [
       "                   seller_city   min    max      mean       std  count\n",
       "14             varzea paulista  2.58  21.07  5.877297  3.284975     37\n",
       "41                 hortolandia  1.39  71.09  7.587543  6.676258    350\n",
       "53  ribeirao preto / sao paulo  2.45  27.32  7.944500  4.055726     40\n",
       "60                   rio claro  1.70  34.88  8.144035  6.283043    114\n",
       "61       ferraz de vasconcelos  1.17  20.84  8.186316  6.443319     38\n",
       "63         vicente de carvalho  1.54  42.43  8.309910  6.604570    221\n",
       "67                         poa  1.09  38.20  8.533029  6.005796    175\n",
       "70                   carazinho  3.16  19.13  8.640656  3.858348     61\n",
       "79                       betim  1.24  53.85  8.818312  6.242661    314\n",
       "85                        maua  1.51  42.57  8.977107  5.455932    484"
      ]
     },
     "execution_count": 32,
     "metadata": {},
     "output_type": "execute_result"
    }
   ],
   "source": [
    "# Fastest delivery sellers\n",
    "fastestdeliverysellers"
   ]
  },
  {
   "cell_type": "code",
   "execution_count": 33,
   "id": "5520c513",
   "metadata": {
    "execution": {
     "iopub.execute_input": "2022-07-20T18:10:41.020528Z",
     "iopub.status.busy": "2022-07-20T18:10:41.019518Z",
     "iopub.status.idle": "2022-07-20T18:10:41.039649Z",
     "shell.execute_reply": "2022-07-20T18:10:41.038655Z"
    },
    "papermill": {
     "duration": 0.054297,
     "end_time": "2022-07-20T18:10:41.042243",
     "exception": false,
     "start_time": "2022-07-20T18:10:40.987946",
     "status": "completed"
    },
    "tags": []
   },
   "outputs": [],
   "source": [
    "# Join average review score to table above\n",
    "avg_review_score_seller = data.groupby(\"seller_city\")[\"review_score\"].mean().dropna().sort_values(ascending=False).reset_index()"
   ]
  },
  {
   "cell_type": "code",
   "execution_count": 34,
   "id": "4e3b85ac",
   "metadata": {
    "execution": {
     "iopub.execute_input": "2022-07-20T18:10:41.103713Z",
     "iopub.status.busy": "2022-07-20T18:10:41.102760Z",
     "iopub.status.idle": "2022-07-20T18:10:41.110648Z",
     "shell.execute_reply": "2022-07-20T18:10:41.109765Z"
    },
    "papermill": {
     "duration": 0.041347,
     "end_time": "2022-07-20T18:10:41.113372",
     "exception": false,
     "start_time": "2022-07-20T18:10:41.072025",
     "status": "completed"
    },
    "tags": []
   },
   "outputs": [],
   "source": [
    "sellerPerf = sellersdeliverytime.merge(avg_review_score_seller, on=\"seller_city\")"
   ]
  },
  {
   "cell_type": "code",
   "execution_count": 35,
   "id": "4b02cc11",
   "metadata": {
    "execution": {
     "iopub.execute_input": "2022-07-20T18:10:41.174255Z",
     "iopub.status.busy": "2022-07-20T18:10:41.173797Z",
     "iopub.status.idle": "2022-07-20T18:10:41.511951Z",
     "shell.execute_reply": "2022-07-20T18:10:41.510850Z"
    },
    "papermill": {
     "duration": 0.372114,
     "end_time": "2022-07-20T18:10:41.515049",
     "exception": false,
     "start_time": "2022-07-20T18:10:41.142935",
     "status": "completed"
    },
    "tags": []
   },
   "outputs": [
    {
     "data": {
      "text/plain": [
       "Text(0.5, 0, '')"
      ]
     },
     "execution_count": 35,
     "metadata": {},
     "output_type": "execute_result"
    },
    {
     "data": {
      "image/png": "[encoded data removed]",
      "text/plain": [
       "<Figure size 432x288 with 1 Axes>"
      ]
     },
     "metadata": {
      "needs_background": "light"
     },
     "output_type": "display_data"
    }
   ],
   "source": [
    "# Relationship between average timetodelivery and average review score\n",
    "ax = sns.regplot(x=\"mean\", y=\"review_score\", data=sellerPerf)\n",
    "ax.set_xlabel(\"\")"
   ]
  },
  {
   "cell_type": "markdown",
   "id": "1e080c0d",
   "metadata": {
    "papermill": {
     "duration": 0.030159,
     "end_time": "2022-07-20T18:10:41.574771",
     "exception": false,
     "start_time": "2022-07-20T18:10:41.544612",
     "status": "completed"
    },
    "tags": []
   },
   "source": [
    "We can clearly see that there is a moderate negative relationship between the time it takes for sellers to deliver their orders and the review they get."
   ]
  },
  {
   "cell_type": "code",
   "execution_count": 36,
   "id": "4f1e1c8f",
   "metadata": {
    "execution": {
     "iopub.execute_input": "2022-07-20T18:10:41.637292Z",
     "iopub.status.busy": "2022-07-20T18:10:41.636601Z",
     "iopub.status.idle": "2022-07-20T18:10:41.653035Z",
     "shell.execute_reply": "2022-07-20T18:10:41.651896Z"
    },
    "papermill": {
     "duration": 0.050666,
     "end_time": "2022-07-20T18:10:41.655378",
     "exception": false,
     "start_time": "2022-07-20T18:10:41.604712",
     "status": "completed"
    },
    "tags": []
   },
   "outputs": [
    {
     "data": {
      "text/html": [
       "<div>\n",
       "<style scoped>\n",
       "    .dataframe tbody tr th:only-of-type {\n",
       "        vertical-align: middle;\n",
       "    }\n",
       "\n",
       "    .dataframe tbody tr th {\n",
       "        vertical-align: top;\n",
       "    }\n",
       "\n",
       "    .dataframe thead th {\n",
       "        text-align: right;\n",
       "    }\n",
       "</style>\n",
       "<table border=\"1\" class=\"dataframe\">\n",
       "  <thead>\n",
       "    <tr style=\"text-align: right;\">\n",
       "      <th></th>\n",
       "      <th>seller_city</th>\n",
       "      <th>min</th>\n",
       "      <th>max</th>\n",
       "      <th>mean</th>\n",
       "      <th>std</th>\n",
       "      <th>count</th>\n",
       "    </tr>\n",
       "  </thead>\n",
       "  <tbody>\n",
       "    <tr>\n",
       "      <th>515</th>\n",
       "      <td>mombuca</td>\n",
       "      <td>6.03</td>\n",
       "      <td>88.24</td>\n",
       "      <td>22.921515</td>\n",
       "      <td>17.782976</td>\n",
       "      <td>33</td>\n",
       "    </tr>\n",
       "    <tr>\n",
       "      <th>509</th>\n",
       "      <td>itaquaquecetuba</td>\n",
       "      <td>1.61</td>\n",
       "      <td>194.85</td>\n",
       "      <td>21.838281</td>\n",
       "      <td>12.911572</td>\n",
       "      <td>1734</td>\n",
       "    </tr>\n",
       "    <tr>\n",
       "      <th>507</th>\n",
       "      <td>congonhal</td>\n",
       "      <td>4.31</td>\n",
       "      <td>60.82</td>\n",
       "      <td>21.590463</td>\n",
       "      <td>12.736508</td>\n",
       "      <td>108</td>\n",
       "    </tr>\n",
       "    <tr>\n",
       "      <th>504</th>\n",
       "      <td>balneario camboriu</td>\n",
       "      <td>3.25</td>\n",
       "      <td>79.36</td>\n",
       "      <td>20.641613</td>\n",
       "      <td>17.449918</td>\n",
       "      <td>31</td>\n",
       "    </tr>\n",
       "    <tr>\n",
       "      <th>503</th>\n",
       "      <td>tubarao</td>\n",
       "      <td>6.01</td>\n",
       "      <td>81.33</td>\n",
       "      <td>19.930286</td>\n",
       "      <td>20.308568</td>\n",
       "      <td>35</td>\n",
       "    </tr>\n",
       "    <tr>\n",
       "      <th>499</th>\n",
       "      <td>foz do iguacu</td>\n",
       "      <td>2.98</td>\n",
       "      <td>92.78</td>\n",
       "      <td>19.490833</td>\n",
       "      <td>17.240529</td>\n",
       "      <td>192</td>\n",
       "    </tr>\n",
       "    <tr>\n",
       "      <th>492</th>\n",
       "      <td>bombinhas</td>\n",
       "      <td>5.13</td>\n",
       "      <td>68.10</td>\n",
       "      <td>18.875761</td>\n",
       "      <td>9.758911</td>\n",
       "      <td>92</td>\n",
       "    </tr>\n",
       "    <tr>\n",
       "      <th>491</th>\n",
       "      <td>criciuma</td>\n",
       "      <td>3.73</td>\n",
       "      <td>71.16</td>\n",
       "      <td>18.396000</td>\n",
       "      <td>15.760557</td>\n",
       "      <td>35</td>\n",
       "    </tr>\n",
       "    <tr>\n",
       "      <th>488</th>\n",
       "      <td>claudio</td>\n",
       "      <td>5.73</td>\n",
       "      <td>48.63</td>\n",
       "      <td>18.171318</td>\n",
       "      <td>8.158321</td>\n",
       "      <td>129</td>\n",
       "    </tr>\n",
       "    <tr>\n",
       "      <th>482</th>\n",
       "      <td>caucaia</td>\n",
       "      <td>3.14</td>\n",
       "      <td>138.88</td>\n",
       "      <td>17.841471</td>\n",
       "      <td>23.052995</td>\n",
       "      <td>34</td>\n",
       "    </tr>\n",
       "  </tbody>\n",
       "</table>\n",
       "</div>"
      ],
      "text/plain": [
       "            seller_city   min     max       mean        std  count\n",
       "515             mombuca  6.03   88.24  22.921515  17.782976     33\n",
       "509     itaquaquecetuba  1.61  194.85  21.838281  12.911572   1734\n",
       "507           congonhal  4.31   60.82  21.590463  12.736508    108\n",
       "504  balneario camboriu  3.25   79.36  20.641613  17.449918     31\n",
       "503             tubarao  6.01   81.33  19.930286  20.308568     35\n",
       "499       foz do iguacu  2.98   92.78  19.490833  17.240529    192\n",
       "492           bombinhas  5.13   68.10  18.875761   9.758911     92\n",
       "491            criciuma  3.73   71.16  18.396000  15.760557     35\n",
       "488             claudio  5.73   48.63  18.171318   8.158321    129\n",
       "482             caucaia  3.14  138.88  17.841471  23.052995     34"
      ]
     },
     "execution_count": 36,
     "metadata": {},
     "output_type": "execute_result"
    }
   ],
   "source": [
    "# Slowest delivery sellers\n",
    "slowestdeliverysellers"
   ]
  },
  {
   "cell_type": "markdown",
   "id": "1c455fe2",
   "metadata": {
    "papermill": {
     "duration": 0.028878,
     "end_time": "2022-07-20T18:10:41.713717",
     "exception": false,
     "start_time": "2022-07-20T18:10:41.684839",
     "status": "completed"
    },
    "tags": []
   },
   "source": [
    "# **States with highest/lowest time to delivery**"
   ]
  },
  {
   "cell_type": "code",
   "execution_count": 37,
   "id": "792d64d5",
   "metadata": {
    "execution": {
     "iopub.execute_input": "2022-07-20T18:10:41.775839Z",
     "iopub.status.busy": "2022-07-20T18:10:41.775220Z",
     "iopub.status.idle": "2022-07-20T18:10:42.025518Z",
     "shell.execute_reply": "2022-07-20T18:10:42.024039Z"
    },
    "papermill": {
     "duration": 0.284577,
     "end_time": "2022-07-20T18:10:42.028025",
     "exception": false,
     "start_time": "2022-07-20T18:10:41.743448",
     "status": "completed"
    },
    "tags": []
   },
   "outputs": [
    {
     "data": {
      "image/png": "[encoded data removed]",
      "text/plain": [
       "<Figure size 432x288 with 1 Axes>"
      ]
     },
     "metadata": {
      "needs_background": "light"
     },
     "output_type": "display_data"
    }
   ],
   "source": [
    "highestTTDstates = data.groupby(\"customer_state\")[\"TimeToDeliveryinDays\"].mean().dropna().sort_values(ascending=False).reset_index()\n",
    "highestTTDstates = highestTTDstates[:10]\n",
    "ax = sns.barplot(y=\"customer_state\", x=\"TimeToDeliveryinDays\", data=highestTTDstates)"
   ]
  },
  {
   "cell_type": "code",
   "execution_count": 38,
   "id": "2b843769",
   "metadata": {
    "execution": {
     "iopub.execute_input": "2022-07-20T18:10:42.090126Z",
     "iopub.status.busy": "2022-07-20T18:10:42.089359Z",
     "iopub.status.idle": "2022-07-20T18:10:42.324422Z",
     "shell.execute_reply": "2022-07-20T18:10:42.323242Z"
    },
    "papermill": {
     "duration": 0.268662,
     "end_time": "2022-07-20T18:10:42.326839",
     "exception": false,
     "start_time": "2022-07-20T18:10:42.058177",
     "status": "completed"
    },
    "tags": []
   },
   "outputs": [
    {
     "data": {
      "image/png": "[encoded data removed]",
      "text/plain": [
       "<Figure size 432x288 with 1 Axes>"
      ]
     },
     "metadata": {
      "needs_background": "light"
     },
     "output_type": "display_data"
    }
   ],
   "source": [
    "lowestTTDstates = data.groupby(\"customer_state\")[\"TimeToDeliveryinDays\"].mean().dropna().sort_values(ascending=True).reset_index()\n",
    "lowestTTDstates = lowestTTDstates[:10]\n",
    "ax = sns.barplot(y=\"customer_state\", x=\"TimeToDeliveryinDays\", data=lowestTTDstates)"
   ]
  },
  {
   "cell_type": "markdown",
   "id": "725b53a7",
   "metadata": {
    "papermill": {
     "duration": 0.029339,
     "end_time": "2022-07-20T18:10:42.385847",
     "exception": false,
     "start_time": "2022-07-20T18:10:42.356508",
     "status": "completed"
    },
    "tags": []
   },
   "source": [
    "# **How does average deliverytime vary across time?**"
   ]
  },
  {
   "cell_type": "code",
   "execution_count": 39,
   "id": "4ce5bf22",
   "metadata": {
    "execution": {
     "iopub.execute_input": "2022-07-20T18:10:42.446762Z",
     "iopub.status.busy": "2022-07-20T18:10:42.446387Z",
     "iopub.status.idle": "2022-07-20T18:10:42.664710Z",
     "shell.execute_reply": "2022-07-20T18:10:42.663600Z"
    },
    "papermill": {
     "duration": 0.25194,
     "end_time": "2022-07-20T18:10:42.667364",
     "exception": false,
     "start_time": "2022-07-20T18:10:42.415424",
     "status": "completed"
    },
    "tags": []
   },
   "outputs": [
    {
     "data": {
      "text/plain": [
       "Text(0, 0.5, 'Median deliveryTime in days')"
      ]
     },
     "execution_count": 39,
     "metadata": {},
     "output_type": "execute_result"
    },
    {
     "data": {
      "image/png": "[encoded data removed]",
      "text/plain": [
       "<Figure size 648x432 with 1 Axes>"
      ]
     },
     "metadata": {
      "needs_background": "light"
     },
     "output_type": "display_data"
    }
   ],
   "source": [
    "deliverytimevstime = data.groupby(data[\"order_purchase_timestamp\"].dt.year)[\"TimeToDeliveryinDays\"].median().dropna()\n",
    "plt.figure(figsize=(9,6))\n",
    "deliverytimevstime.plot(kind=\"bar\")\n",
    "plt.xlabel(\"\")\n",
    "plt.ylabel(\"Median deliveryTime in days\")"
   ]
  },
  {
   "cell_type": "markdown",
   "id": "cb6e841d",
   "metadata": {
    "papermill": {
     "duration": 0.030641,
     "end_time": "2022-07-20T18:10:42.729120",
     "exception": false,
     "start_time": "2022-07-20T18:10:42.698479",
     "status": "completed"
    },
    "tags": []
   },
   "source": [
    "We can see that the company made a significant improvement in delivery time. In 2016, the median deliverytime was exceeding 17 days while in 2017 it went down to about 12 and to about 9 days in 2018. "
   ]
  },
  {
   "cell_type": "markdown",
   "id": "fd7227ce",
   "metadata": {
    "papermill": {
     "duration": 0.031485,
     "end_time": "2022-07-20T18:10:42.791250",
     "exception": false,
     "start_time": "2022-07-20T18:10:42.759765",
     "status": "completed"
    },
    "tags": []
   },
   "source": [
    "# **How does average review score vary across time?**"
   ]
  },
  {
   "cell_type": "code",
   "execution_count": 40,
   "id": "425354bc",
   "metadata": {
    "execution": {
     "iopub.execute_input": "2022-07-20T18:10:42.854784Z",
     "iopub.status.busy": "2022-07-20T18:10:42.854388Z",
     "iopub.status.idle": "2022-07-20T18:10:43.059739Z",
     "shell.execute_reply": "2022-07-20T18:10:43.058880Z"
    },
    "papermill": {
     "duration": 0.239865,
     "end_time": "2022-07-20T18:10:43.062081",
     "exception": false,
     "start_time": "2022-07-20T18:10:42.822216",
     "status": "completed"
    },
    "tags": []
   },
   "outputs": [
    {
     "data": {
      "text/plain": [
       "Text(0, 0.5, 'Mean review_score')"
      ]
     },
     "execution_count": 40,
     "metadata": {},
     "output_type": "execute_result"
    },
    {
     "data": {
      "image/png": "[encoded data removed]",
      "text/plain": [
       "<Figure size 648x432 with 1 Axes>"
      ]
     },
     "metadata": {
      "needs_background": "light"
     },
     "output_type": "display_data"
    }
   ],
   "source": [
    "scorevstime = data.groupby(data[\"order_purchase_timestamp\"].dt.year)[\"review_score\"].mean().dropna()\n",
    "plt.figure(figsize=(9,6))\n",
    "scorevstime.plot(kind=\"bar\")\n",
    "plt.xlabel(\"\")\n",
    "plt.ylabel(\"Mean review_score\")"
   ]
  },
  {
   "cell_type": "markdown",
   "id": "ae311f82",
   "metadata": {
    "papermill": {
     "duration": 0.031083,
     "end_time": "2022-07-20T18:10:43.124651",
     "exception": false,
     "start_time": "2022-07-20T18:10:43.093568",
     "status": "completed"
    },
    "tags": []
   },
   "source": [
    "Customers are giving better scores in 2017 and 2018 than in 2016. "
   ]
  },
  {
   "cell_type": "markdown",
   "id": "df281a43",
   "metadata": {
    "papermill": {
     "duration": 0.030893,
     "end_time": "2022-07-20T18:10:43.186533",
     "exception": false,
     "start_time": "2022-07-20T18:10:43.155640",
     "status": "completed"
    },
    "tags": []
   },
   "source": [
    "# **What are the most sold categories of product?**"
   ]
  },
  {
   "cell_type": "code",
   "execution_count": 41,
   "id": "0386ed22",
   "metadata": {
    "execution": {
     "iopub.execute_input": "2022-07-20T18:10:43.250635Z",
     "iopub.status.busy": "2022-07-20T18:10:43.249813Z",
     "iopub.status.idle": "2022-07-20T18:10:43.324941Z",
     "shell.execute_reply": "2022-07-20T18:10:43.323555Z"
    },
    "papermill": {
     "duration": 0.110211,
     "end_time": "2022-07-20T18:10:43.327732",
     "exception": false,
     "start_time": "2022-07-20T18:10:43.217521",
     "status": "completed"
    },
    "tags": []
   },
   "outputs": [],
   "source": [
    "top_categ_by_revenue = data.groupby(\"product_category_name_english\").agg({'order_id':'nunique','payment_value':'sum'}).sort_values(\"payment_value\", ascending=False)[:10]\n",
    "top_categ_by_revenue.rename(columns={\"order_id\":\"NumOfOrders\", \"payment_value\":\"Revenues\"}, inplace=True)"
   ]
  },
  {
   "cell_type": "code",
   "execution_count": 42,
   "id": "188542ed",
   "metadata": {
    "execution": {
     "iopub.execute_input": "2022-07-20T18:10:43.393354Z",
     "iopub.status.busy": "2022-07-20T18:10:43.392886Z",
     "iopub.status.idle": "2022-07-20T18:10:43.405184Z",
     "shell.execute_reply": "2022-07-20T18:10:43.404305Z"
    },
    "papermill": {
     "duration": 0.048112,
     "end_time": "2022-07-20T18:10:43.407437",
     "exception": false,
     "start_time": "2022-07-20T18:10:43.359325",
     "status": "completed"
    },
    "tags": []
   },
   "outputs": [
    {
     "data": {
      "text/html": [
       "<div>\n",
       "<style scoped>\n",
       "    .dataframe tbody tr th:only-of-type {\n",
       "        vertical-align: middle;\n",
       "    }\n",
       "\n",
       "    .dataframe tbody tr th {\n",
       "        vertical-align: top;\n",
       "    }\n",
       "\n",
       "    .dataframe thead th {\n",
       "        text-align: right;\n",
       "    }\n",
       "</style>\n",
       "<table border=\"1\" class=\"dataframe\">\n",
       "  <thead>\n",
       "    <tr style=\"text-align: right;\">\n",
       "      <th></th>\n",
       "      <th>NumOfOrders</th>\n",
       "      <th>Revenues</th>\n",
       "    </tr>\n",
       "    <tr>\n",
       "      <th>product_category_name_english</th>\n",
       "      <th></th>\n",
       "      <th></th>\n",
       "    </tr>\n",
       "  </thead>\n",
       "  <tbody>\n",
       "    <tr>\n",
       "      <th>bed_bath_table</th>\n",
       "      <td>9313</td>\n",
       "      <td>1725465.67</td>\n",
       "    </tr>\n",
       "    <tr>\n",
       "      <th>health_beauty</th>\n",
       "      <td>8770</td>\n",
       "      <td>1646292.53</td>\n",
       "    </tr>\n",
       "    <tr>\n",
       "      <th>computers_accessories</th>\n",
       "      <td>6649</td>\n",
       "      <td>1592611.66</td>\n",
       "    </tr>\n",
       "    <tr>\n",
       "      <th>furniture_decor</th>\n",
       "      <td>6398</td>\n",
       "      <td>1427214.01</td>\n",
       "    </tr>\n",
       "    <tr>\n",
       "      <th>watches_gifts</th>\n",
       "      <td>5576</td>\n",
       "      <td>1420682.17</td>\n",
       "    </tr>\n",
       "    <tr>\n",
       "      <th>sports_leisure</th>\n",
       "      <td>7669</td>\n",
       "      <td>1390581.87</td>\n",
       "    </tr>\n",
       "    <tr>\n",
       "      <th>housewares</th>\n",
       "      <td>5843</td>\n",
       "      <td>1091709.15</td>\n",
       "    </tr>\n",
       "    <tr>\n",
       "      <th>garden_tools</th>\n",
       "      <td>3496</td>\n",
       "      <td>834757.45</td>\n",
       "    </tr>\n",
       "    <tr>\n",
       "      <th>auto</th>\n",
       "      <td>3877</td>\n",
       "      <td>802254.74</td>\n",
       "    </tr>\n",
       "    <tr>\n",
       "      <th>cool_stuff</th>\n",
       "      <td>3599</td>\n",
       "      <td>772616.70</td>\n",
       "    </tr>\n",
       "  </tbody>\n",
       "</table>\n",
       "</div>"
      ],
      "text/plain": [
       "                               NumOfOrders    Revenues\n",
       "product_category_name_english                         \n",
       "bed_bath_table                        9313  1725465.67\n",
       "health_beauty                         8770  1646292.53\n",
       "computers_accessories                 6649  1592611.66\n",
       "furniture_decor                       6398  1427214.01\n",
       "watches_gifts                         5576  1420682.17\n",
       "sports_leisure                        7669  1390581.87\n",
       "housewares                            5843  1091709.15\n",
       "garden_tools                          3496   834757.45\n",
       "auto                                  3877   802254.74\n",
       "cool_stuff                            3599   772616.70"
      ]
     },
     "execution_count": 42,
     "metadata": {},
     "output_type": "execute_result"
    }
   ],
   "source": [
    "top_categ_by_revenue"
   ]
  },
  {
   "cell_type": "markdown",
   "id": "6ff1f66d",
   "metadata": {
    "papermill": {
     "duration": 0.032026,
     "end_time": "2022-07-20T18:10:43.470637",
     "exception": false,
     "start_time": "2022-07-20T18:10:43.438611",
     "status": "completed"
    },
    "tags": []
   },
   "source": [
    "# **RFM ANALYSIS**\n",
    "\n",
    "What is RFM analysis?\n",
    "\n",
    "RFM stands for recency, frequency, monetary value. In business analytics, we often use this concept to divide customers into different segments, like high-value customers, medium value customers or low-value customers, and similarly many others.\n",
    "\n",
    "Let’s assume we are a company, our company name is geek, let’s perform the RFM analysis on our customers\n",
    "\n",
    "**Recency**: How recently has the customer made a transaction with us\n",
    "\n",
    "**Frequency**: How frequent is the customer in ordering/buying some product from us\n",
    "\n",
    "**Monetary**: How much does the customer spend on purchasing products from us.\n",
    "\n",
    "> *source: geekforgeeks*"
   ]
  },
  {
   "cell_type": "code",
   "execution_count": 43,
   "id": "f9301619",
   "metadata": {
    "execution": {
     "iopub.execute_input": "2022-07-20T18:10:43.536499Z",
     "iopub.status.busy": "2022-07-20T18:10:43.535778Z",
     "iopub.status.idle": "2022-07-20T18:10:43.983745Z",
     "shell.execute_reply": "2022-07-20T18:10:43.982600Z"
    },
    "papermill": {
     "duration": 0.483543,
     "end_time": "2022-07-20T18:10:43.986419",
     "exception": false,
     "start_time": "2022-07-20T18:10:43.502876",
     "status": "completed"
    },
    "tags": []
   },
   "outputs": [],
   "source": [
    "# Calculate recency \n",
    "df_recency = data.groupby(by='customer_unique_id', as_index=False)['order_purchase_timestamp'].max()\n",
    "df_recency.rename(columns={\"order_purchase_timestamp\":\"LastPurchaseDate\"}, inplace=True)\n",
    "df_recency[\"LastPurchaseDate\"] = df_recency[\"LastPurchaseDate\"].dt.date\n",
    "# Get recent invoice date and use it to calculate recency\n",
    "recent_date = data['order_purchase_timestamp'].dt.date.max()\n",
    "df_recency['Recency'] = df_recency['LastPurchaseDate'].apply(lambda x: (recent_date - x).days)"
   ]
  },
  {
   "cell_type": "code",
   "execution_count": 44,
   "id": "47036f6b",
   "metadata": {
    "execution": {
     "iopub.execute_input": "2022-07-20T18:10:44.052314Z",
     "iopub.status.busy": "2022-07-20T18:10:44.051376Z",
     "iopub.status.idle": "2022-07-20T18:10:44.062501Z",
     "shell.execute_reply": "2022-07-20T18:10:44.061553Z"
    },
    "papermill": {
     "duration": 0.045937,
     "end_time": "2022-07-20T18:10:44.064847",
     "exception": false,
     "start_time": "2022-07-20T18:10:44.018910",
     "status": "completed"
    },
    "tags": []
   },
   "outputs": [
    {
     "data": {
      "text/html": [
       "<div>\n",
       "<style scoped>\n",
       "    .dataframe tbody tr th:only-of-type {\n",
       "        vertical-align: middle;\n",
       "    }\n",
       "\n",
       "    .dataframe tbody tr th {\n",
       "        vertical-align: top;\n",
       "    }\n",
       "\n",
       "    .dataframe thead th {\n",
       "        text-align: right;\n",
       "    }\n",
       "</style>\n",
       "<table border=\"1\" class=\"dataframe\">\n",
       "  <thead>\n",
       "    <tr style=\"text-align: right;\">\n",
       "      <th></th>\n",
       "      <th>customer_unique_id</th>\n",
       "      <th>LastPurchaseDate</th>\n",
       "      <th>Recency</th>\n",
       "    </tr>\n",
       "  </thead>\n",
       "  <tbody>\n",
       "    <tr>\n",
       "      <th>0</th>\n",
       "      <td>0000366f3b9a7992bf8c76cfdf3221e2</td>\n",
       "      <td>2018-05-10</td>\n",
       "      <td>116</td>\n",
       "    </tr>\n",
       "    <tr>\n",
       "      <th>1</th>\n",
       "      <td>0000b849f77a49e4a4ce2b2a4ca5be3f</td>\n",
       "      <td>2018-05-07</td>\n",
       "      <td>119</td>\n",
       "    </tr>\n",
       "    <tr>\n",
       "      <th>2</th>\n",
       "      <td>0000f46a3911fa3c0805444483337064</td>\n",
       "      <td>2017-03-10</td>\n",
       "      <td>542</td>\n",
       "    </tr>\n",
       "    <tr>\n",
       "      <th>3</th>\n",
       "      <td>0000f6ccb0745a6a4b88665a16c9f078</td>\n",
       "      <td>2017-10-12</td>\n",
       "      <td>326</td>\n",
       "    </tr>\n",
       "    <tr>\n",
       "      <th>4</th>\n",
       "      <td>0004aac84e0df4da2b147fca70cf8255</td>\n",
       "      <td>2017-11-14</td>\n",
       "      <td>293</td>\n",
       "    </tr>\n",
       "  </tbody>\n",
       "</table>\n",
       "</div>"
      ],
      "text/plain": [
       "                 customer_unique_id LastPurchaseDate  Recency\n",
       "0  0000366f3b9a7992bf8c76cfdf3221e2       2018-05-10      116\n",
       "1  0000b849f77a49e4a4ce2b2a4ca5be3f       2018-05-07      119\n",
       "2  0000f46a3911fa3c0805444483337064       2017-03-10      542\n",
       "3  0000f6ccb0745a6a4b88665a16c9f078       2017-10-12      326\n",
       "4  0004aac84e0df4da2b147fca70cf8255       2017-11-14      293"
      ]
     },
     "execution_count": 44,
     "metadata": {},
     "output_type": "execute_result"
    }
   ],
   "source": [
    "df_recency.head()"
   ]
  },
  {
   "cell_type": "code",
   "execution_count": 45,
   "id": "c97b3e37",
   "metadata": {
    "execution": {
     "iopub.execute_input": "2022-07-20T18:10:44.129672Z",
     "iopub.status.busy": "2022-07-20T18:10:44.128452Z",
     "iopub.status.idle": "2022-07-20T18:10:44.455522Z",
     "shell.execute_reply": "2022-07-20T18:10:44.454423Z"
    },
    "papermill": {
     "duration": 0.361929,
     "end_time": "2022-07-20T18:10:44.457831",
     "exception": false,
     "start_time": "2022-07-20T18:10:44.095902",
     "status": "completed"
    },
    "tags": []
   },
   "outputs": [
    {
     "data": {
      "text/html": [
       "<div>\n",
       "<style scoped>\n",
       "    .dataframe tbody tr th:only-of-type {\n",
       "        vertical-align: middle;\n",
       "    }\n",
       "\n",
       "    .dataframe tbody tr th {\n",
       "        vertical-align: top;\n",
       "    }\n",
       "\n",
       "    .dataframe thead th {\n",
       "        text-align: right;\n",
       "    }\n",
       "</style>\n",
       "<table border=\"1\" class=\"dataframe\">\n",
       "  <thead>\n",
       "    <tr style=\"text-align: right;\">\n",
       "      <th></th>\n",
       "      <th>customer_unique_id</th>\n",
       "      <th>Frequency</th>\n",
       "    </tr>\n",
       "  </thead>\n",
       "  <tbody>\n",
       "    <tr>\n",
       "      <th>0</th>\n",
       "      <td>0000366f3b9a7992bf8c76cfdf3221e2</td>\n",
       "      <td>1</td>\n",
       "    </tr>\n",
       "    <tr>\n",
       "      <th>1</th>\n",
       "      <td>0000b849f77a49e4a4ce2b2a4ca5be3f</td>\n",
       "      <td>1</td>\n",
       "    </tr>\n",
       "    <tr>\n",
       "      <th>2</th>\n",
       "      <td>0000f46a3911fa3c0805444483337064</td>\n",
       "      <td>1</td>\n",
       "    </tr>\n",
       "    <tr>\n",
       "      <th>3</th>\n",
       "      <td>0000f6ccb0745a6a4b88665a16c9f078</td>\n",
       "      <td>1</td>\n",
       "    </tr>\n",
       "    <tr>\n",
       "      <th>4</th>\n",
       "      <td>0004aac84e0df4da2b147fca70cf8255</td>\n",
       "      <td>1</td>\n",
       "    </tr>\n",
       "  </tbody>\n",
       "</table>\n",
       "</div>"
      ],
      "text/plain": [
       "                 customer_unique_id  Frequency\n",
       "0  0000366f3b9a7992bf8c76cfdf3221e2          1\n",
       "1  0000b849f77a49e4a4ce2b2a4ca5be3f          1\n",
       "2  0000f46a3911fa3c0805444483337064          1\n",
       "3  0000f6ccb0745a6a4b88665a16c9f078          1\n",
       "4  0004aac84e0df4da2b147fca70cf8255          1"
      ]
     },
     "execution_count": 45,
     "metadata": {},
     "output_type": "execute_result"
    }
   ],
   "source": [
    "# Calculating frequency\n",
    "frequency_df = data.groupby([\"customer_unique_id\"]).agg({\"order_id\":\"nunique\"}).reset_index()\n",
    "frequency_df.rename(columns={\"order_id\":\"Frequency\"}, inplace=True)\n",
    "frequency_df.head()"
   ]
  },
  {
   "cell_type": "code",
   "execution_count": 46,
   "id": "fcf4c5ef",
   "metadata": {
    "execution": {
     "iopub.execute_input": "2022-07-20T18:10:44.523423Z",
     "iopub.status.busy": "2022-07-20T18:10:44.522281Z",
     "iopub.status.idle": "2022-07-20T18:10:44.770256Z",
     "shell.execute_reply": "2022-07-20T18:10:44.769341Z"
    },
    "papermill": {
     "duration": 0.283227,
     "end_time": "2022-07-20T18:10:44.772762",
     "exception": false,
     "start_time": "2022-07-20T18:10:44.489535",
     "status": "completed"
    },
    "tags": []
   },
   "outputs": [
    {
     "data": {
      "text/html": [
       "<div>\n",
       "<style scoped>\n",
       "    .dataframe tbody tr th:only-of-type {\n",
       "        vertical-align: middle;\n",
       "    }\n",
       "\n",
       "    .dataframe tbody tr th {\n",
       "        vertical-align: top;\n",
       "    }\n",
       "\n",
       "    .dataframe thead th {\n",
       "        text-align: right;\n",
       "    }\n",
       "</style>\n",
       "<table border=\"1\" class=\"dataframe\">\n",
       "  <thead>\n",
       "    <tr style=\"text-align: right;\">\n",
       "      <th></th>\n",
       "      <th>customer_unique_id</th>\n",
       "      <th>Monetary</th>\n",
       "    </tr>\n",
       "  </thead>\n",
       "  <tbody>\n",
       "    <tr>\n",
       "      <th>0</th>\n",
       "      <td>0000366f3b9a7992bf8c76cfdf3221e2</td>\n",
       "      <td>141.90</td>\n",
       "    </tr>\n",
       "    <tr>\n",
       "      <th>1</th>\n",
       "      <td>0000b849f77a49e4a4ce2b2a4ca5be3f</td>\n",
       "      <td>27.19</td>\n",
       "    </tr>\n",
       "    <tr>\n",
       "      <th>2</th>\n",
       "      <td>0000f46a3911fa3c0805444483337064</td>\n",
       "      <td>86.22</td>\n",
       "    </tr>\n",
       "    <tr>\n",
       "      <th>3</th>\n",
       "      <td>0000f6ccb0745a6a4b88665a16c9f078</td>\n",
       "      <td>43.62</td>\n",
       "    </tr>\n",
       "    <tr>\n",
       "      <th>4</th>\n",
       "      <td>0004aac84e0df4da2b147fca70cf8255</td>\n",
       "      <td>196.89</td>\n",
       "    </tr>\n",
       "  </tbody>\n",
       "</table>\n",
       "</div>"
      ],
      "text/plain": [
       "                 customer_unique_id  Monetary\n",
       "0  0000366f3b9a7992bf8c76cfdf3221e2    141.90\n",
       "1  0000b849f77a49e4a4ce2b2a4ca5be3f     27.19\n",
       "2  0000f46a3911fa3c0805444483337064     86.22\n",
       "3  0000f6ccb0745a6a4b88665a16c9f078     43.62\n",
       "4  0004aac84e0df4da2b147fca70cf8255    196.89"
      ]
     },
     "execution_count": 46,
     "metadata": {},
     "output_type": "execute_result"
    }
   ],
   "source": [
    "# Calculating monetray value\n",
    "monetary_df = data.groupby('customer_unique_id', as_index=False)['payment_value'].sum()\n",
    "monetary_df.columns = ['customer_unique_id', 'Monetary']\n",
    "monetary_df.head()"
   ]
  },
  {
   "cell_type": "code",
   "execution_count": 47,
   "id": "0963ae1b",
   "metadata": {
    "execution": {
     "iopub.execute_input": "2022-07-20T18:10:44.839825Z",
     "iopub.status.busy": "2022-07-20T18:10:44.839134Z",
     "iopub.status.idle": "2022-07-20T18:10:45.033420Z",
     "shell.execute_reply": "2022-07-20T18:10:45.032374Z"
    },
    "papermill": {
     "duration": 0.231136,
     "end_time": "2022-07-20T18:10:45.035690",
     "exception": false,
     "start_time": "2022-07-20T18:10:44.804554",
     "status": "completed"
    },
    "tags": []
   },
   "outputs": [
    {
     "data": {
      "text/html": [
       "<div>\n",
       "<style scoped>\n",
       "    .dataframe tbody tr th:only-of-type {\n",
       "        vertical-align: middle;\n",
       "    }\n",
       "\n",
       "    .dataframe tbody tr th {\n",
       "        vertical-align: top;\n",
       "    }\n",
       "\n",
       "    .dataframe thead th {\n",
       "        text-align: right;\n",
       "    }\n",
       "</style>\n",
       "<table border=\"1\" class=\"dataframe\">\n",
       "  <thead>\n",
       "    <tr style=\"text-align: right;\">\n",
       "      <th></th>\n",
       "      <th>customer_unique_id</th>\n",
       "      <th>Recency</th>\n",
       "      <th>Frequency</th>\n",
       "      <th>Monetary</th>\n",
       "    </tr>\n",
       "  </thead>\n",
       "  <tbody>\n",
       "    <tr>\n",
       "      <th>0</th>\n",
       "      <td>0000366f3b9a7992bf8c76cfdf3221e2</td>\n",
       "      <td>116</td>\n",
       "      <td>1</td>\n",
       "      <td>141.90</td>\n",
       "    </tr>\n",
       "    <tr>\n",
       "      <th>1</th>\n",
       "      <td>0000b849f77a49e4a4ce2b2a4ca5be3f</td>\n",
       "      <td>119</td>\n",
       "      <td>1</td>\n",
       "      <td>27.19</td>\n",
       "    </tr>\n",
       "    <tr>\n",
       "      <th>2</th>\n",
       "      <td>0000f46a3911fa3c0805444483337064</td>\n",
       "      <td>542</td>\n",
       "      <td>1</td>\n",
       "      <td>86.22</td>\n",
       "    </tr>\n",
       "    <tr>\n",
       "      <th>3</th>\n",
       "      <td>0000f6ccb0745a6a4b88665a16c9f078</td>\n",
       "      <td>326</td>\n",
       "      <td>1</td>\n",
       "      <td>43.62</td>\n",
       "    </tr>\n",
       "    <tr>\n",
       "      <th>4</th>\n",
       "      <td>0004aac84e0df4da2b147fca70cf8255</td>\n",
       "      <td>293</td>\n",
       "      <td>1</td>\n",
       "      <td>196.89</td>\n",
       "    </tr>\n",
       "  </tbody>\n",
       "</table>\n",
       "</div>"
      ],
      "text/plain": [
       "                 customer_unique_id  Recency  Frequency  Monetary\n",
       "0  0000366f3b9a7992bf8c76cfdf3221e2      116          1    141.90\n",
       "1  0000b849f77a49e4a4ce2b2a4ca5be3f      119          1     27.19\n",
       "2  0000f46a3911fa3c0805444483337064      542          1     86.22\n",
       "3  0000f6ccb0745a6a4b88665a16c9f078      326          1     43.62\n",
       "4  0004aac84e0df4da2b147fca70cf8255      293          1    196.89"
      ]
     },
     "execution_count": 47,
     "metadata": {},
     "output_type": "execute_result"
    }
   ],
   "source": [
    "# Merging dfs\n",
    "rf_df = df_recency.merge(frequency_df, on='customer_unique_id')\n",
    "rfm_df = rf_df.merge(monetary_df, on='customer_unique_id').drop(columns='LastPurchaseDate')\n",
    "rfm_df.head()"
   ]
  },
  {
   "cell_type": "code",
   "execution_count": 48,
   "id": "b2ab659d",
   "metadata": {
    "execution": {
     "iopub.execute_input": "2022-07-20T18:10:45.102114Z",
     "iopub.status.busy": "2022-07-20T18:10:45.101260Z",
     "iopub.status.idle": "2022-07-20T18:10:45.270604Z",
     "shell.execute_reply": "2022-07-20T18:10:45.269353Z"
    },
    "papermill": {
     "duration": 0.205315,
     "end_time": "2022-07-20T18:10:45.273508",
     "exception": false,
     "start_time": "2022-07-20T18:10:45.068193",
     "status": "completed"
    },
    "tags": []
   },
   "outputs": [],
   "source": [
    "# Remove zeros from data before log trans\n",
    "rfm_df[rfm_df.columns[1:]] = rfm_df[rfm_df.columns[1:]].applymap(lambda x: 1 if x ==0 else x)"
   ]
  },
  {
   "cell_type": "code",
   "execution_count": 49,
   "id": "67d73875",
   "metadata": {
    "execution": {
     "iopub.execute_input": "2022-07-20T18:10:45.340886Z",
     "iopub.status.busy": "2022-07-20T18:10:45.340303Z",
     "iopub.status.idle": "2022-07-20T18:10:45.346008Z",
     "shell.execute_reply": "2022-07-20T18:10:45.345215Z"
    },
    "papermill": {
     "duration": 0.042267,
     "end_time": "2022-07-20T18:10:45.348336",
     "exception": false,
     "start_time": "2022-07-20T18:10:45.306069",
     "status": "completed"
    },
    "tags": []
   },
   "outputs": [],
   "source": [
    "# Running K-Means algo to cluster our data\n",
    "# Let's check if data is skewed first\n",
    "def check_skew(df_skew, column):\n",
    "    skew = stats.skew(df_skew[column])\n",
    "    skewtest = stats.skewtest(df_skew[column])\n",
    "    plt.title('Distribution of ' + column)\n",
    "    sns.distplot(df_skew[column])\n",
    "    plt.show()\n",
    "    print(\"{}'s: Skew: {}, : {}\".format(column, skew, skewtest))\n",
    "    return"
   ]
  },
  {
   "cell_type": "code",
   "execution_count": 50,
   "id": "7f2c3997",
   "metadata": {
    "execution": {
     "iopub.execute_input": "2022-07-20T18:10:45.413639Z",
     "iopub.status.busy": "2022-07-20T18:10:45.412822Z",
     "iopub.status.idle": "2022-07-20T18:10:47.381084Z",
     "shell.execute_reply": "2022-07-20T18:10:47.380266Z"
    },
    "papermill": {
     "duration": 2.004036,
     "end_time": "2022-07-20T18:10:47.383857",
     "exception": false,
     "start_time": "2022-07-20T18:10:45.379821",
     "status": "completed"
    },
    "tags": []
   },
   "outputs": [
    {
     "data": {
      "image/png": "[encoded data removed]",
      "text/plain": [
       "<Figure size 432x288 with 1 Axes>"
      ]
     },
     "metadata": {
      "needs_background": "light"
     },
     "output_type": "display_data"
    },
    {
     "name": "stdout",
     "output_type": "stream",
     "text": [
      "Recency's: Skew: 0.4525743664936904, : SkewtestResult(statistic=53.91755466635981, pvalue=0.0)\n"
     ]
    },
    {
     "data": {
      "image/png": "[encoded data removed]",
      "text/plain": [
       "<Figure size 432x288 with 1 Axes>"
      ]
     },
     "metadata": {
      "needs_background": "light"
     },
     "output_type": "display_data"
    },
    {
     "name": "stdout",
     "output_type": "stream",
     "text": [
      "Frequency's: Skew: 10.990942154921314, : SkewtestResult(statistic=335.6456861541721, pvalue=0.0)\n"
     ]
    },
    {
     "data": {
      "image/png": "[encoded data removed]",
      "text/plain": [
       "<Figure size 432x288 with 1 Axes>"
      ]
     },
     "metadata": {
      "needs_background": "light"
     },
     "output_type": "display_data"
    },
    {
     "name": "stdout",
     "output_type": "stream",
     "text": [
      "Monetary's: Skew: 70.33621193560055, : SkewtestResult(statistic=524.6379205104615, pvalue=0.0)\n"
     ]
    }
   ],
   "source": [
    "for col in rfm_df.columns[1:]:\n",
    "    check_skew(rfm_df, col)\n",
    "    "
   ]
  },
  {
   "cell_type": "markdown",
   "id": "18f32a3b",
   "metadata": {
    "papermill": {
     "duration": 0.033148,
     "end_time": "2022-07-20T18:10:47.450033",
     "exception": false,
     "start_time": "2022-07-20T18:10:47.416885",
     "status": "completed"
    },
    "tags": []
   },
   "source": [
    "A skewness value greater than 1 or less than -1 indicates a highly skewed distribution. A value between 0.5 and 1 or -0.5 and -1 is moderately skewed. A value between -0.5 and 0.5 indicates that the distribution is fairly symmetrical. \n",
    "\n",
    "We'll log transform Frequency and Monetary as they are highly skwed."
   ]
  },
  {
   "cell_type": "code",
   "execution_count": 51,
   "id": "8b8e7d36",
   "metadata": {
    "execution": {
     "iopub.execute_input": "2022-07-20T18:10:47.518421Z",
     "iopub.status.busy": "2022-07-20T18:10:47.517796Z",
     "iopub.status.idle": "2022-07-20T18:10:47.529638Z",
     "shell.execute_reply": "2022-07-20T18:10:47.528783Z"
    },
    "papermill": {
     "duration": 0.048367,
     "end_time": "2022-07-20T18:10:47.531874",
     "exception": false,
     "start_time": "2022-07-20T18:10:47.483507",
     "status": "completed"
    },
    "tags": []
   },
   "outputs": [],
   "source": [
    "# Perform log transformation \n",
    "rfm_df_log = rfm_df.copy()\n",
    "for c in rfm_df.columns[2:]:\n",
    "    rfm_df_log[c] = np.log10(rfm_df_log[c])"
   ]
  },
  {
   "cell_type": "code",
   "execution_count": 52,
   "id": "50e711fd",
   "metadata": {
    "execution": {
     "iopub.execute_input": "2022-07-20T18:10:47.601217Z",
     "iopub.status.busy": "2022-07-20T18:10:47.600540Z",
     "iopub.status.idle": "2022-07-20T18:10:49.644332Z",
     "shell.execute_reply": "2022-07-20T18:10:49.643200Z"
    },
    "papermill": {
     "duration": 2.082091,
     "end_time": "2022-07-20T18:10:49.647772",
     "exception": false,
     "start_time": "2022-07-20T18:10:47.565681",
     "status": "completed"
    },
    "tags": []
   },
   "outputs": [
    {
     "data": {
      "image/png": "[encoded data removed]",
      "text/plain": [
       "<Figure size 432x288 with 1 Axes>"
      ]
     },
     "metadata": {
      "needs_background": "light"
     },
     "output_type": "display_data"
    },
    {
     "name": "stdout",
     "output_type": "stream",
     "text": [
      "Recency's: Skew: 0.4525743664936904, : SkewtestResult(statistic=53.91755466635981, pvalue=0.0)\n"
     ]
    },
    {
     "data": {
      "image/png": "[encoded data removed]",
      "text/plain": [
       "<Figure size 432x288 with 1 Axes>"
      ]
     },
     "metadata": {
      "needs_background": "light"
     },
     "output_type": "display_data"
    },
    {
     "name": "stdout",
     "output_type": "stream",
     "text": [
      "Frequency's: Skew: 6.068294981630156, : SkewtestResult(statistic=275.4417097222108, pvalue=0.0)\n"
     ]
    },
    {
     "data": {
      "image/png": "[encoded data removed]",
      "text/plain": [
       "<Figure size 432x288 with 1 Axes>"
      ]
     },
     "metadata": {
      "needs_background": "light"
     },
     "output_type": "display_data"
    },
    {
     "name": "stdout",
     "output_type": "stream",
     "text": [
      "Monetary's: Skew: 0.729609897634013, : SkewtestResult(statistic=81.9204555191681, pvalue=0.0)\n"
     ]
    }
   ],
   "source": [
    "for col in rfm_df.columns[1:]:\n",
    "    check_skew(rfm_df_log, col)"
   ]
  },
  {
   "cell_type": "markdown",
   "id": "ab0fd5c8",
   "metadata": {
    "papermill": {
     "duration": 0.034798,
     "end_time": "2022-07-20T18:10:49.717036",
     "exception": false,
     "start_time": "2022-07-20T18:10:49.682238",
     "status": "completed"
    },
    "tags": []
   },
   "source": [
    "Now, I'll scale the data."
   ]
  },
  {
   "cell_type": "code",
   "execution_count": 53,
   "id": "5a6ae9eb",
   "metadata": {
    "execution": {
     "iopub.execute_input": "2022-07-20T18:10:49.788366Z",
     "iopub.status.busy": "2022-07-20T18:10:49.787599Z",
     "iopub.status.idle": "2022-07-20T18:10:49.804737Z",
     "shell.execute_reply": "2022-07-20T18:10:49.803764Z"
    },
    "papermill": {
     "duration": 0.055608,
     "end_time": "2022-07-20T18:10:49.807113",
     "exception": false,
     "start_time": "2022-07-20T18:10:49.751505",
     "status": "completed"
    },
    "tags": []
   },
   "outputs": [],
   "source": [
    "scaler = StandardScaler()\n",
    "scaler.fit(rfm_df_log.drop(\"customer_unique_id\", axis=1))\n",
    "RFM_Table_scaled = scaler.transform(rfm_df_log.drop(\"customer_unique_id\", axis=1))\n",
    "# Put data into a df\n",
    "RFM_Table_scaled = pd.DataFrame(RFM_Table_scaled, columns=rfm_df_log.columns[1:])"
   ]
  },
  {
   "cell_type": "code",
   "execution_count": 54,
   "id": "5934671c",
   "metadata": {
    "execution": {
     "iopub.execute_input": "2022-07-20T18:10:49.880044Z",
     "iopub.status.busy": "2022-07-20T18:10:49.879288Z",
     "iopub.status.idle": "2022-07-20T18:10:49.892020Z",
     "shell.execute_reply": "2022-07-20T18:10:49.890779Z"
    },
    "papermill": {
     "duration": 0.052074,
     "end_time": "2022-07-20T18:10:49.894366",
     "exception": false,
     "start_time": "2022-07-20T18:10:49.842292",
     "status": "completed"
    },
    "tags": []
   },
   "outputs": [
    {
     "data": {
      "text/html": [
       "<div>\n",
       "<style scoped>\n",
       "    .dataframe tbody tr th:only-of-type {\n",
       "        vertical-align: middle;\n",
       "    }\n",
       "\n",
       "    .dataframe tbody tr th {\n",
       "        vertical-align: top;\n",
       "    }\n",
       "\n",
       "    .dataframe thead th {\n",
       "        text-align: right;\n",
       "    }\n",
       "</style>\n",
       "<table border=\"1\" class=\"dataframe\">\n",
       "  <thead>\n",
       "    <tr style=\"text-align: right;\">\n",
       "      <th></th>\n",
       "      <th>Recency</th>\n",
       "      <th>Frequency</th>\n",
       "      <th>Monetary</th>\n",
       "    </tr>\n",
       "  </thead>\n",
       "  <tbody>\n",
       "    <tr>\n",
       "      <th>0</th>\n",
       "      <td>-0.826858</td>\n",
       "      <td>-0.172439</td>\n",
       "      <td>0.164274</td>\n",
       "    </tr>\n",
       "    <tr>\n",
       "      <th>1</th>\n",
       "      <td>-0.807272</td>\n",
       "      <td>-0.172439</td>\n",
       "      <td>-1.635774</td>\n",
       "    </tr>\n",
       "    <tr>\n",
       "      <th>2</th>\n",
       "      <td>1.954465</td>\n",
       "      <td>-0.172439</td>\n",
       "      <td>-0.378506</td>\n",
       "    </tr>\n",
       "    <tr>\n",
       "      <th>3</th>\n",
       "      <td>0.544216</td>\n",
       "      <td>-0.172439</td>\n",
       "      <td>-1.120834</td>\n",
       "    </tr>\n",
       "    <tr>\n",
       "      <th>4</th>\n",
       "      <td>0.328762</td>\n",
       "      <td>-0.172439</td>\n",
       "      <td>0.521090</td>\n",
       "    </tr>\n",
       "  </tbody>\n",
       "</table>\n",
       "</div>"
      ],
      "text/plain": [
       "    Recency  Frequency  Monetary\n",
       "0 -0.826858  -0.172439  0.164274\n",
       "1 -0.807272  -0.172439 -1.635774\n",
       "2  1.954465  -0.172439 -0.378506\n",
       "3  0.544216  -0.172439 -1.120834\n",
       "4  0.328762  -0.172439  0.521090"
      ]
     },
     "execution_count": 54,
     "metadata": {},
     "output_type": "execute_result"
    }
   ],
   "source": [
    "RFM_Table_scaled.head()"
   ]
  },
  {
   "cell_type": "code",
   "execution_count": 55,
   "id": "af400aaf",
   "metadata": {
    "execution": {
     "iopub.execute_input": "2022-07-20T18:10:49.969208Z",
     "iopub.status.busy": "2022-07-20T18:10:49.968492Z",
     "iopub.status.idle": "2022-07-20T18:11:11.198920Z",
     "shell.execute_reply": "2022-07-20T18:11:11.197422Z"
    },
    "papermill": {
     "duration": 21.270927,
     "end_time": "2022-07-20T18:11:11.201342",
     "exception": false,
     "start_time": "2022-07-20T18:10:49.930415",
     "status": "completed"
    },
    "tags": []
   },
   "outputs": [
    {
     "data": {
      "image/png": "[encoded data removed]",
      "text/plain": [
       "<Figure size 648x576 with 1 Axes>"
      ]
     },
     "metadata": {
      "needs_background": "light"
     },
     "output_type": "display_data"
    }
   ],
   "source": [
    "# Training k-means model\n",
    "\n",
    "distortions = []\n",
    "K = range(1,10)\n",
    "for k in K:\n",
    "    kmeanModel = KMeans(n_clusters=k)\n",
    "    kmeanModel.fit(RFM_Table_scaled)\n",
    "    distortions.append(kmeanModel.inertia_)\n",
    "\n",
    "plt.figure(figsize=(9,8))\n",
    "plt.plot(K, distortions, 'bx-')\n",
    "plt.xlabel('k')\n",
    "plt.ylabel('Distortion')\n",
    "plt.title('The Elbow Method showing the optimal k')\n",
    "plt.show()"
   ]
  },
  {
   "cell_type": "code",
   "execution_count": 56,
   "id": "d4139809",
   "metadata": {
    "execution": {
     "iopub.execute_input": "2022-07-20T18:11:11.274892Z",
     "iopub.status.busy": "2022-07-20T18:11:11.274055Z",
     "iopub.status.idle": "2022-07-20T18:11:13.225782Z",
     "shell.execute_reply": "2022-07-20T18:11:13.224613Z"
    },
    "papermill": {
     "duration": 1.992012,
     "end_time": "2022-07-20T18:11:13.228798",
     "exception": false,
     "start_time": "2022-07-20T18:11:11.236786",
     "status": "completed"
    },
    "tags": []
   },
   "outputs": [],
   "source": [
    "# Train the model on 4 clusters\n",
    "kmean_model = KMeans(n_clusters=4, random_state=5)\n",
    "kmean_y = kmean_model.fit_predict(RFM_Table_scaled)\n",
    "# Add labels to df\n",
    "rfm_df['Cluster'] = kmean_model.labels_"
   ]
  },
  {
   "cell_type": "code",
   "execution_count": 57,
   "id": "b988c6fc",
   "metadata": {
    "execution": {
     "iopub.execute_input": "2022-07-20T18:11:13.300578Z",
     "iopub.status.busy": "2022-07-20T18:11:13.300145Z",
     "iopub.status.idle": "2022-07-20T18:11:13.307545Z",
     "shell.execute_reply": "2022-07-20T18:11:13.306280Z"
    },
    "papermill": {
     "duration": 0.046664,
     "end_time": "2022-07-20T18:11:13.310345",
     "exception": false,
     "start_time": "2022-07-20T18:11:13.263681",
     "status": "completed"
    },
    "tags": []
   },
   "outputs": [],
   "source": [
    "# Function to visualize clusters\n",
    "def rfm_values(df):\n",
    "    df_new = df.groupby(['Cluster']).agg({\n",
    "            'Recency': 'mean',\n",
    "            'Frequency': 'mean',\n",
    "            'Monetary': ['mean', 'count']\n",
    "        }).round(0)\n",
    "\n",
    "    return df_new"
   ]
  },
  {
   "cell_type": "code",
   "execution_count": 58,
   "id": "b733e068",
   "metadata": {
    "execution": {
     "iopub.execute_input": "2022-07-20T18:11:13.382355Z",
     "iopub.status.busy": "2022-07-20T18:11:13.381938Z",
     "iopub.status.idle": "2022-07-20T18:11:13.409975Z",
     "shell.execute_reply": "2022-07-20T18:11:13.408746Z"
    },
    "papermill": {
     "duration": 0.066976,
     "end_time": "2022-07-20T18:11:13.412421",
     "exception": false,
     "start_time": "2022-07-20T18:11:13.345445",
     "status": "completed"
    },
    "tags": []
   },
   "outputs": [
    {
     "data": {
      "text/html": [
       "<div>\n",
       "<style scoped>\n",
       "    .dataframe tbody tr th:only-of-type {\n",
       "        vertical-align: middle;\n",
       "    }\n",
       "\n",
       "    .dataframe tbody tr th {\n",
       "        vertical-align: top;\n",
       "    }\n",
       "\n",
       "    .dataframe thead tr th {\n",
       "        text-align: left;\n",
       "    }\n",
       "\n",
       "    .dataframe thead tr:last-of-type th {\n",
       "        text-align: right;\n",
       "    }\n",
       "</style>\n",
       "<table border=\"1\" class=\"dataframe\">\n",
       "  <thead>\n",
       "    <tr>\n",
       "      <th></th>\n",
       "      <th>Recency</th>\n",
       "      <th>Frequency</th>\n",
       "      <th colspan=\"2\" halign=\"left\">Monetary</th>\n",
       "    </tr>\n",
       "    <tr>\n",
       "      <th></th>\n",
       "      <th>mean</th>\n",
       "      <th>mean</th>\n",
       "      <th>mean</th>\n",
       "      <th>count</th>\n",
       "    </tr>\n",
       "    <tr>\n",
       "      <th>Cluster</th>\n",
       "      <th></th>\n",
       "      <th></th>\n",
       "      <th></th>\n",
       "      <th></th>\n",
       "    </tr>\n",
       "  </thead>\n",
       "  <tbody>\n",
       "    <tr>\n",
       "      <th>0</th>\n",
       "      <td>146.0</td>\n",
       "      <td>1.0</td>\n",
       "      <td>82.0</td>\n",
       "      <td>40300</td>\n",
       "    </tr>\n",
       "    <tr>\n",
       "      <th>1</th>\n",
       "      <td>226.0</td>\n",
       "      <td>2.0</td>\n",
       "      <td>488.0</td>\n",
       "      <td>2807</td>\n",
       "    </tr>\n",
       "    <tr>\n",
       "      <th>2</th>\n",
       "      <td>426.0</td>\n",
       "      <td>1.0</td>\n",
       "      <td>124.0</td>\n",
       "      <td>27541</td>\n",
       "    </tr>\n",
       "    <tr>\n",
       "      <th>3</th>\n",
       "      <td>194.0</td>\n",
       "      <td>1.0</td>\n",
       "      <td>521.0</td>\n",
       "      <td>22748</td>\n",
       "    </tr>\n",
       "  </tbody>\n",
       "</table>\n",
       "</div>"
      ],
      "text/plain": [
       "        Recency Frequency Monetary       \n",
       "           mean      mean     mean  count\n",
       "Cluster                                  \n",
       "0         146.0       1.0     82.0  40300\n",
       "1         226.0       2.0    488.0   2807\n",
       "2         426.0       1.0    124.0  27541\n",
       "3         194.0       1.0    521.0  22748"
      ]
     },
     "execution_count": 58,
     "metadata": {},
     "output_type": "execute_result"
    }
   ],
   "source": [
    "rfm_values(rfm_df)"
   ]
  },
  {
   "cell_type": "markdown",
   "id": "2385c16c",
   "metadata": {
    "papermill": {
     "duration": 0.034932,
     "end_time": "2022-07-20T18:11:13.482529",
     "exception": false,
     "start_time": "2022-07-20T18:11:13.447597",
     "status": "completed"
    },
    "tags": []
   },
   "source": [
    "The Frequency feature doesn't add that much value to the model since in our data most customers have made on average only one order (mean order per customer is 1.03). Moreover, most customers haven't ordered in a while."
   ]
  },
  {
   "cell_type": "markdown",
   "id": "01ff2e95",
   "metadata": {
    "papermill": {
     "duration": 0.034827,
     "end_time": "2022-07-20T18:11:13.552692",
     "exception": false,
     "start_time": "2022-07-20T18:11:13.517865",
     "status": "completed"
    },
    "tags": []
   },
   "source": [
    "**What does each cluster represent?**\n",
    "\n",
    "* **Cluster 0** : This cluster can be interpreted as (*Relatively New Comers/Low spenders*) as their spending is the smallest among all clusters but have the lowest recency. This cluster is quite huge. So, some marketing effort could be advisable towards it in order to increase its monetary value. \n",
    "\n",
    "* **Cluster 1** : can be considered as our best one (*Loyal customers*) since although customers in this cluster haven't on avergae ordered in a while, their frequency of orders is greater than all other clusters and the value of their orders is quite high. \n",
    "\n",
    "* **Cluster 3** : (*Lost/Low spenders*) is the name we can give to this cluster. Customers in this cluster seem have one of the highest recency and their monetary value is low. This cluster shouldn't be the focus of marketing effort. \n",
    "\n",
    "* **Cluster 4** : This is our second best (*Big spenders*) cluster as it's recency comes second and the average amount spent is largest. This cluster is also second in terms of number of customers. "
   ]
  }
 ],
 "metadata": {
  "kernelspec": {
   "display_name": "Python 3",
   "language": "python",
   "name": "python3"
  },
  "language_info": {
   "codemirror_mode": {
    "name": "ipython",
    "version": 3
   },
   "file_extension": ".py",
   "mimetype": "text/x-python",
   "name": "python",
   "nbconvert_exporter": "python",
   "pygments_lexer": "ipython3",
   "version": "3.7.12"
  },
  "papermill": {
   "default_parameters": {},
   "duration": 63.315094,
   "end_time": "2022-07-20T18:11:14.711490",
   "environment_variables": {},
   "exception": null,
   "input_path": "__notebook__.ipynb",
   "output_path": "__notebook__.ipynb",
   "parameters": {},
   "start_time": "2022-07-20T18:10:11.396396",
   "version": "2.3.4"
  }
 },
 "nbformat": 4,
 "nbformat_minor": 5
}
